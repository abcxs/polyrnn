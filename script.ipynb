{
 "cells": [
  {
   "cell_type": "code",
   "execution_count": 1,
   "id": "noticed-adventure",
   "metadata": {},
   "outputs": [],
   "source": [
    "import numpy as np\n",
    "import torch"
   ]
  },
  {
   "cell_type": "code",
   "execution_count": 3,
   "id": "experienced-bridges",
   "metadata": {},
   "outputs": [],
   "source": [
    "from math import sqrt\n",
    "\n",
    "def gaussian2D(radius, sigma=1, dtype=torch.float32, device='cpu'):\n",
    "    x = torch.arange(\n",
    "        -radius, radius + 1, dtype=dtype, device=device).view(1, -1)\n",
    "    y = torch.arange(\n",
    "        -radius, radius + 1, dtype=dtype, device=device).view(-1, 1)\n",
    "\n",
    "    h = (-(x * x + y * y) / (2 * sigma * sigma)).exp()\n",
    "\n",
    "    h[h < torch.finfo(h.dtype).eps * h.max()] = 0\n",
    "    return h\n",
    "\n",
    "\n",
    "def gen_gaussian_target(heatmap, center, radius, k=1):\n",
    "    diameter = 2 * radius + 1\n",
    "    gaussian_kernel = gaussian2D(\n",
    "        radius, sigma=diameter / 6, dtype=heatmap.dtype, device=heatmap.device)\n",
    "\n",
    "    x, y = center\n",
    "\n",
    "    height, width = heatmap.shape[:2]\n",
    "\n",
    "    left, right = min(x, radius), min(width - x, radius + 1)\n",
    "    top, bottom = min(y, radius), min(height - y, radius + 1)\n",
    "\n",
    "    masked_heatmap = heatmap[y - top:y + bottom, x - left:x + right]\n",
    "    masked_gaussian = gaussian_kernel[radius - top:radius + bottom,\n",
    "                                      radius - left:radius + right]\n",
    "    out_heatmap = heatmap\n",
    "    torch.max(\n",
    "        masked_heatmap,\n",
    "        masked_gaussian * k,\n",
    "        out=out_heatmap[y - top:y + bottom, x - left:x + right])\n",
    "\n",
    "    return out_heatmap\n"
   ]
  },
  {
   "cell_type": "code",
   "execution_count": 37,
   "id": "coupled-indie",
   "metadata": {},
   "outputs": [
    {
     "data": {
      "text/plain": [
       "tensor([[0.0000, 0.0000, 0.0000, 0.0000, 0.0000, 0.0000, 0.0000, 0.0000, 0.0000,\n",
       "         0.0000],\n",
       "        [0.0000, 0.0000, 0.0000, 0.0000, 0.0000, 0.0000, 0.0000, 0.0000, 0.0000,\n",
       "         0.0000],\n",
       "        [0.0000, 0.0000, 0.0000, 0.0000, 0.0000, 0.0000, 0.0000, 0.0000, 0.0000,\n",
       "         0.0000],\n",
       "        [0.0000, 0.0000, 0.0000, 0.0032, 0.0273, 0.0561, 0.0273, 0.0032, 0.0000,\n",
       "         0.0000],\n",
       "        [0.0000, 0.0000, 0.0000, 0.0273, 0.2369, 0.4868, 0.2369, 0.0273, 0.0000,\n",
       "         0.0000],\n",
       "        [0.0000, 0.0000, 0.0000, 0.0561, 0.4868, 1.0000, 0.4868, 0.0561, 0.0000,\n",
       "         0.0000],\n",
       "        [0.0000, 0.0000, 0.0000, 0.0273, 0.2369, 0.4868, 0.2369, 0.0273, 0.0000,\n",
       "         0.0000],\n",
       "        [0.0000, 0.0000, 0.0000, 0.0032, 0.0273, 0.0561, 0.0273, 0.0032, 0.0000,\n",
       "         0.0000],\n",
       "        [0.0000, 0.0000, 0.0000, 0.0000, 0.0000, 0.0000, 0.0000, 0.0000, 0.0000,\n",
       "         0.0000],\n",
       "        [0.0000, 0.0000, 0.0000, 0.0000, 0.0000, 0.0000, 0.0000, 0.0000, 0.0000,\n",
       "         0.0000]])"
      ]
     },
     "execution_count": 37,
     "metadata": {},
     "output_type": "execute_result"
    }
   ],
   "source": [
    "heatmap = torch.zeros((10, 10))\n",
    "out_heatmap = gen_gaussian_target(heatmap, (5, 5), 2)\n",
    "out_heatmap"
   ]
  },
  {
   "cell_type": "code",
   "execution_count": 33,
   "id": "retained-flush",
   "metadata": {},
   "outputs": [
    {
     "data": {
      "image/png": "[encoded data removed]",
      "text/plain": [
       "<Figure size 432x288 with 1 Axes>"
      ]
     },
     "metadata": {
      "needs_background": "light"
     },
     "output_type": "display_data"
    }
   ],
   "source": [
    "from PIL import Image\n",
    "import matplotlib.pyplot as plt\n",
    "out_heatmap = out_heatmap.numpy()\n",
    "img = Image.fromarray((out_heatmap * 255).astype(np.uint8))\n",
    "plt.imshow(img)\n",
    "plt.show()"
   ]
  },
  {
   "cell_type": "code",
   "execution_count": 36,
   "id": "organizational-zambia",
   "metadata": {},
   "outputs": [
    {
     "name": "stdout",
     "output_type": "stream",
     "text": [
      "L\n"
     ]
    },
    {
     "data": {
      "image/png": "[encoded data removed]",
      "text/plain": [
       "<Figure size 432x288 with 1 Axes>"
      ]
     },
     "metadata": {
      "needs_background": "light"
     },
     "output_type": "display_data"
    }
   ],
   "source": [
    "img = Image.fromarray(((1 - out_heatmap) * 255).astype(np.uint8))\n",
    "plt.imshow(img)\n",
    "plt.show()"
   ]
  },
  {
   "cell_type": "code",
   "execution_count": 52,
   "id": "attempted-segment",
   "metadata": {},
   "outputs": [
    {
     "name": "stdout",
     "output_type": "stream",
     "text": [
      "[[4. 3. 2. 1. 0.]\n",
      " [5. 4. 3. 2. 1.]\n",
      " [6. 5. 4. 3. 2.]\n",
      " [7. 6. 5. 4. 3.]\n",
      " [8. 7. 6. 5. 4.]]\n",
      "[[1.  1.  1.  0.5 0. ]\n",
      " [1.  1.  1.  1.  0.5]\n",
      " [1.  1.  1.  1.  1. ]\n",
      " [1.  1.  1.  1.  1. ]\n",
      " [1.  1.  1.  1.  1. ]]\n"
     ]
    },
    {
     "data": {
      "text/plain": [
       "array([-0.  , -0.  , -0.  ,  0.25,  0.5 , -0.  , -0.  , -0.  , -0.  ,\n",
       "        0.25, -0.  , -0.  , -0.  , -0.  , -0.  , -0.  , -0.  , -0.  ,\n",
       "       -0.  , -0.  , -0.  , -0.  , -0.  , -0.  , -0.  ], dtype=float32)"
      ]
     },
     "execution_count": 52,
     "metadata": {},
     "output_type": "execute_result"
    }
   ],
   "source": [
    "from scipy.ndimage.morphology import distance_transform_cdt\n",
    "grid_size = 5\n",
    "dt_threshold = 2\n",
    "spatial_part = np.zeros((25, ))\n",
    "spatial_part[4] = 1\n",
    "spatial_part = np.reshape(spatial_part, [grid_size, grid_size])\n",
    "\n",
    "# Invert image\n",
    "spatial_part = -1 * (spatial_part - 1)\n",
    "# Compute distance transform\n",
    "spatial_part = distance_transform_cdt(spatial_part, metric='taxicab').astype(np.float32)\n",
    "print(spatial_part.squeeze())\n",
    "# Threshold\n",
    "spatial_part = np.clip(spatial_part, 0, dt_threshold)\n",
    "# Normalize\n",
    "spatial_part /= dt_threshold\n",
    "print(spatial_part.squeeze())\n",
    "# Invert back\n",
    "spatial_part = -1. * (spatial_part - 1.)\n",
    "\n",
    "spatial_part /= np.sum(spatial_part)\n",
    "spatial_part = spatial_part.flatten()\n",
    "spatial_part"
   ]
  },
  {
   "cell_type": "code",
   "execution_count": 2,
   "id": "official-disney",
   "metadata": {},
   "outputs": [
    {
     "data": {
      "text/plain": [
       "tensor([[[-0.8766, -0.2559],\n",
       "         [-0.1402,  0.6600],\n",
       "         [-2.0265, -0.8507],\n",
       "         [-0.6251, -0.6464]],\n",
       "\n",
       "        [[-0.0101,  0.0106],\n",
       "         [ 1.0448,  0.5238],\n",
       "         [-0.8256, -0.0473],\n",
       "         [ 0.0519,  1.6967]],\n",
       "\n",
       "        [[ 1.7956,  0.7747],\n",
       "         [ 0.5362, -0.1801],\n",
       "         [ 0.7181, -0.3591],\n",
       "         [ 0.2667,  1.9853]]])"
      ]
     },
     "execution_count": 2,
     "metadata": {},
     "output_type": "execute_result"
    }
   ],
   "source": [
    "import numpy as np\n",
    "import torch\n",
    "classification = torch.randn(3, 4, 2)\n",
    "classification"
   ]
  },
  {
   "cell_type": "code",
   "execution_count": 3,
   "id": "fossil-cornwall",
   "metadata": {},
   "outputs": [
    {
     "data": {
      "text/plain": [
       "tensor([[1, 0],\n",
       "        [3, 1],\n",
       "        [3, 0]])"
      ]
     },
     "execution_count": 3,
     "metadata": {},
     "output_type": "execute_result"
    }
   ],
   "source": [
    "scores, classes = torch.max(classification, dim=2)\n",
    "index = torch.topk(scores, 2, dim=1)[1]\n",
    "index"
   ]
  },
  {
   "cell_type": "code",
   "execution_count": 4,
   "id": "individual-trust",
   "metadata": {},
   "outputs": [
    {
     "data": {
      "text/plain": [
       "tensor([[[ 0.0961, -0.2211, -0.1235, -0.4526],\n",
       "         [ 1.1913, -0.6995,  1.1652, -0.4976],\n",
       "         [-0.2756,  0.1393, -0.9468,  0.9056],\n",
       "         [ 1.6276,  0.6425, -1.3039,  0.5388]],\n",
       "\n",
       "        [[-1.7719, -0.9328, -1.6707, -0.6378],\n",
       "         [ 0.7151, -1.0701, -1.1874, -0.0166],\n",
       "         [ 1.7620, -1.6967, -0.8073, -0.1689],\n",
       "         [ 0.0074, -1.0881, -0.4911,  1.5214]],\n",
       "\n",
       "        [[-1.4891, -0.7297,  1.2615, -0.4864],\n",
       "         [-0.6038, -0.5122,  1.5626,  0.6899],\n",
       "         [-0.5724,  2.0229,  1.1522,  2.0943],\n",
       "         [-0.8049, -1.2026,  0.2504,  0.4766]]])"
      ]
     },
     "execution_count": 4,
     "metadata": {},
     "output_type": "execute_result"
    }
   ],
   "source": [
    "anchors = torch.randn(3, 4, 4)\n",
    "anchors"
   ]
  },
  {
   "cell_type": "code",
   "execution_count": 5,
   "id": "competent-listing",
   "metadata": {},
   "outputs": [
    {
     "data": {
      "text/plain": [
       "tensor([[[ 1.1913, -0.6995,  1.1652, -0.4976],\n",
       "         [ 0.0961, -0.2211, -0.1235, -0.4526]],\n",
       "\n",
       "        [[ 0.7151, -1.0701, -1.1874, -0.0166],\n",
       "         [-1.7719, -0.9328, -1.6707, -0.6378]],\n",
       "\n",
       "        [[-0.6038, -0.5122,  1.5626,  0.6899],\n",
       "         [-1.4891, -0.7297,  1.2615, -0.4864]]])"
      ]
     },
     "execution_count": 5,
     "metadata": {},
     "output_type": "execute_result"
    }
   ],
   "source": [
    "torch.index_select(anchors, 1, index[0])"
   ]
  },
  {
   "cell_type": "code",
   "execution_count": 26,
   "id": "forced-church",
   "metadata": {},
   "outputs": [
    {
     "data": {
      "text/plain": [
       "tensor([[ 2.7379,  0.4971],\n",
       "        [ 2.0442,  0.6300],\n",
       "        [ 0.4566, -0.1630]])"
      ]
     },
     "execution_count": 26,
     "metadata": {},
     "output_type": "execute_result"
    }
   ],
   "source": [
    "torch.gather(nums, 1, index)"
   ]
  },
  {
   "cell_type": "code",
   "execution_count": 39,
   "id": "competitive-forth",
   "metadata": {},
   "outputs": [
    {
     "data": {
      "text/plain": [
       "tensor([[0.4896, 0.0770],\n",
       "        [0.6627, 0.9370],\n",
       "        [0.4200, 0.3213]])"
      ]
     },
     "execution_count": 39,
     "metadata": {},
     "output_type": "execute_result"
    }
   ],
   "source": [
    "nums[index]"
   ]
  },
  {
   "cell_type": "code",
   "execution_count": 54,
   "id": "unsigned-navigator",
   "metadata": {},
   "outputs": [
    {
     "data": {
      "text/plain": [
       "tensor([[ 1.3468,  0.5561, -0.1046, -2.1203],\n",
       "        [-0.1744, -0.2209, -0.4993,  0.3010],\n",
       "        [ 0.3856, -0.2718,  1.3986, -0.2306]])"
      ]
     },
     "execution_count": 54,
     "metadata": {},
     "output_type": "execute_result"
    }
   ],
   "source": [
    "a = torch.randn(3, 4)\n",
    "a"
   ]
  },
  {
   "cell_type": "code",
   "execution_count": 56,
   "id": "filled-arizona",
   "metadata": {},
   "outputs": [
    {
     "data": {
      "text/plain": [
       "tensor([-1.3560,  0.0881, -0.8153,  1.3512])"
      ]
     },
     "execution_count": 56,
     "metadata": {},
     "output_type": "execute_result"
    }
   ],
   "source": [
    "b = torch.randn((4,))\n",
    "b"
   ]
  },
  {
   "cell_type": "code",
   "execution_count": 58,
   "id": "manual-thermal",
   "metadata": {},
   "outputs": [
    {
     "data": {
      "text/plain": [
       "tensor([[[ 1.3468,  0.5561, -0.1046, -2.1203],\n",
       "         [-0.1744, -0.2209, -0.4993,  0.3010]],\n",
       "\n",
       "        [[-0.1744, -0.2209, -0.4993,  0.3010],\n",
       "         [ 1.3468,  0.5561, -0.1046, -2.1203]]])"
      ]
     },
     "execution_count": 58,
     "metadata": {},
     "output_type": "execute_result"
    }
   ],
   "source": [
    "i = torch.tensor([[0, 1], [1, 0]]).long()\n",
    "a[i]"
   ]
  },
  {
   "cell_type": "code",
   "execution_count": 59,
   "id": "academic-translation",
   "metadata": {},
   "outputs": [
    {
     "data": {
      "text/plain": [
       "tensor([[[[5, 7, 3, 2],\n",
       "          [4, 4, 6, 4],\n",
       "          [7, 8, 9, 7]],\n",
       "\n",
       "         [[8, 7, 7, 7],\n",
       "          [5, 9, 7, 8],\n",
       "          [4, 7, 4, 3]],\n",
       "\n",
       "         [[4, 6, 6, 1],\n",
       "          [2, 3, 4, 3],\n",
       "          [7, 8, 4, 7]],\n",
       "\n",
       "         [[9, 7, 5, 6],\n",
       "          [9, 6, 5, 7],\n",
       "          [7, 1, 3, 3]]],\n",
       "\n",
       "\n",
       "        [[[2, 6, 4, 8],\n",
       "          [9, 5, 6, 5],\n",
       "          [9, 2, 8, 8]],\n",
       "\n",
       "         [[2, 8, 5, 9],\n",
       "          [8, 7, 8, 2],\n",
       "          [4, 4, 9, 8]],\n",
       "\n",
       "         [[8, 5, 1, 7],\n",
       "          [2, 2, 3, 8],\n",
       "          [5, 1, 8, 6]],\n",
       "\n",
       "         [[2, 5, 4, 1],\n",
       "          [7, 8, 1, 6],\n",
       "          [1, 6, 4, 6]]]])"
      ]
     },
     "execution_count": 59,
     "metadata": {},
     "output_type": "execute_result"
    }
   ],
   "source": [
    "import numpy as np\n",
    "import torch\n",
    "# n, t, b, c\n",
    "a = torch.randint(1, 10, (2, 4, 3, 4))\n",
    "a"
   ]
  },
  {
   "cell_type": "code",
   "execution_count": 60,
   "id": "dying-times",
   "metadata": {},
   "outputs": [
    {
     "data": {
      "text/plain": [
       "tensor([[2, 1],\n",
       "        [1, 2]])"
      ]
     },
     "execution_count": 60,
     "metadata": {},
     "output_type": "execute_result"
    }
   ],
   "source": [
    "inds = torch.tensor([[2, 1], [1, 2]]).long()\n",
    "inds\n"
   ]
  },
  {
   "cell_type": "code",
   "execution_count": 61,
   "id": "organic-animal",
   "metadata": {},
   "outputs": [
    {
     "name": "stdout",
     "output_type": "stream",
     "text": [
      "torch.Size([2, 3, 4, 4])\n"
     ]
    },
    {
     "data": {
      "text/plain": [
       "tensor([[[[5, 7, 3, 2],\n",
       "          [8, 7, 7, 7],\n",
       "          [4, 6, 6, 1],\n",
       "          [9, 7, 5, 6]],\n",
       "\n",
       "         [[4, 4, 6, 4],\n",
       "          [5, 9, 7, 8],\n",
       "          [2, 3, 4, 3],\n",
       "          [9, 6, 5, 7]],\n",
       "\n",
       "         [[7, 8, 9, 7],\n",
       "          [4, 7, 4, 3],\n",
       "          [7, 8, 4, 7],\n",
       "          [7, 1, 3, 3]]],\n",
       "\n",
       "\n",
       "        [[[2, 6, 4, 8],\n",
       "          [2, 8, 5, 9],\n",
       "          [8, 5, 1, 7],\n",
       "          [2, 5, 4, 1]],\n",
       "\n",
       "         [[9, 5, 6, 5],\n",
       "          [8, 7, 8, 2],\n",
       "          [2, 2, 3, 8],\n",
       "          [7, 8, 1, 6]],\n",
       "\n",
       "         [[9, 2, 8, 8],\n",
       "          [4, 4, 9, 8],\n",
       "          [5, 1, 8, 6],\n",
       "          [1, 6, 4, 6]]]])"
      ]
     },
     "execution_count": 61,
     "metadata": {},
     "output_type": "execute_result"
    }
   ],
   "source": [
    "b = a.permute(0, 2, 1, 3)\n",
    "print(b.shape)\n",
    "b"
   ]
  },
  {
   "cell_type": "code",
   "execution_count": 65,
   "id": "grateful-retailer",
   "metadata": {},
   "outputs": [
    {
     "name": "stdout",
     "output_type": "stream",
     "text": [
      "torch.Size([2, 3, 4, 4])\n"
     ]
    },
    {
     "data": {
      "text/plain": [
       "tensor([[[[7, 8, 9, 7],\n",
       "          [4, 7, 4, 3],\n",
       "          [7, 8, 4, 7],\n",
       "          [7, 1, 3, 3]],\n",
       "\n",
       "         [[4, 4, 6, 4],\n",
       "          [5, 9, 7, 8],\n",
       "          [2, 3, 4, 3],\n",
       "          [9, 6, 5, 7]]],\n",
       "\n",
       "\n",
       "        [[[9, 5, 6, 5],\n",
       "          [8, 7, 8, 2],\n",
       "          [2, 2, 3, 8],\n",
       "          [7, 8, 1, 6]],\n",
       "\n",
       "         [[9, 2, 8, 8],\n",
       "          [4, 4, 9, 8],\n",
       "          [5, 1, 8, 6],\n",
       "          [1, 6, 4, 6]]]])"
      ]
     },
     "execution_count": 65,
     "metadata": {},
     "output_type": "execute_result"
    }
   ],
   "source": [
    "print(b.shape)\n",
    "b[torch.arange(2)[:, None], inds]"
   ]
  },
  {
   "cell_type": "code",
   "execution_count": 68,
   "id": "communist-meter",
   "metadata": {},
   "outputs": [
    {
     "data": {
      "text/plain": [
       "tensor([[[[7, 8, 9, 7],\n",
       "          [4, 7, 4, 3],\n",
       "          [7, 8, 4, 7],\n",
       "          [7, 1, 3, 3]],\n",
       "\n",
       "         [[4, 4, 6, 4],\n",
       "          [5, 9, 7, 8],\n",
       "          [2, 3, 4, 3],\n",
       "          [9, 6, 5, 7]]],\n",
       "\n",
       "\n",
       "        [[[9, 5, 6, 5],\n",
       "          [8, 7, 8, 2],\n",
       "          [2, 2, 3, 8],\n",
       "          [7, 8, 1, 6]],\n",
       "\n",
       "         [[9, 2, 8, 8],\n",
       "          [4, 4, 9, 8],\n",
       "          [5, 1, 8, 6],\n",
       "          [1, 6, 4, 6]]]])"
      ]
     },
     "execution_count": 68,
     "metadata": {},
     "output_type": "execute_result"
    }
   ],
   "source": [
    "a[torch.arange(2)[:, None], :, inds]"
   ]
  },
  {
   "cell_type": "code",
   "execution_count": 25,
   "id": "requested-nevada",
   "metadata": {},
   "outputs": [
    {
     "data": {
      "text/plain": [
       "tensor([[[6, 3],\n",
       "         [3, 3]],\n",
       "\n",
       "        [[3, 3],\n",
       "         [6, 3]]])"
      ]
     },
     "execution_count": 25,
     "metadata": {},
     "output_type": "execute_result"
    }
   ],
   "source": [
    "d[range(1), ]"
   ]
  },
  {
   "cell_type": "code",
   "execution_count": 2,
   "id": "christian-flash",
   "metadata": {},
   "outputs": [],
   "source": [
    "import numpy as np\n",
    "import torch\n",
    "model = torch.load('./venus/0/latest.pth', 'cpu')"
   ]
  },
  {
   "cell_type": "code",
   "execution_count": 4,
   "id": "classified-poison",
   "metadata": {},
   "outputs": [
    {
     "data": {
      "text/plain": [
       "odict_keys(['backbone.conv1.weight', 'backbone.bn1.weight', 'backbone.bn1.bias', 'backbone.bn1.running_mean', 'backbone.bn1.running_var', 'backbone.bn1.num_batches_tracked', 'backbone.layer1.0.conv1.weight', 'backbone.layer1.0.bn1.weight', 'backbone.layer1.0.bn1.bias', 'backbone.layer1.0.bn1.running_mean', 'backbone.layer1.0.bn1.running_var', 'backbone.layer1.0.bn1.num_batches_tracked', 'backbone.layer1.0.conv2.weight', 'backbone.layer1.0.bn2.weight', 'backbone.layer1.0.bn2.bias', 'backbone.layer1.0.bn2.running_mean', 'backbone.layer1.0.bn2.running_var', 'backbone.layer1.0.bn2.num_batches_tracked', 'backbone.layer1.0.conv3.weight', 'backbone.layer1.0.bn3.weight', 'backbone.layer1.0.bn3.bias', 'backbone.layer1.0.bn3.running_mean', 'backbone.layer1.0.bn3.running_var', 'backbone.layer1.0.bn3.num_batches_tracked', 'backbone.layer1.0.downsample.0.weight', 'backbone.layer1.0.downsample.1.weight', 'backbone.layer1.0.downsample.1.bias', 'backbone.layer1.0.downsample.1.running_mean', 'backbone.layer1.0.downsample.1.running_var', 'backbone.layer1.0.downsample.1.num_batches_tracked', 'backbone.layer1.1.conv1.weight', 'backbone.layer1.1.bn1.weight', 'backbone.layer1.1.bn1.bias', 'backbone.layer1.1.bn1.running_mean', 'backbone.layer1.1.bn1.running_var', 'backbone.layer1.1.bn1.num_batches_tracked', 'backbone.layer1.1.conv2.weight', 'backbone.layer1.1.bn2.weight', 'backbone.layer1.1.bn2.bias', 'backbone.layer1.1.bn2.running_mean', 'backbone.layer1.1.bn2.running_var', 'backbone.layer1.1.bn2.num_batches_tracked', 'backbone.layer1.1.conv3.weight', 'backbone.layer1.1.bn3.weight', 'backbone.layer1.1.bn3.bias', 'backbone.layer1.1.bn3.running_mean', 'backbone.layer1.1.bn3.running_var', 'backbone.layer1.1.bn3.num_batches_tracked', 'backbone.layer1.2.conv1.weight', 'backbone.layer1.2.bn1.weight', 'backbone.layer1.2.bn1.bias', 'backbone.layer1.2.bn1.running_mean', 'backbone.layer1.2.bn1.running_var', 'backbone.layer1.2.bn1.num_batches_tracked', 'backbone.layer1.2.conv2.weight', 'backbone.layer1.2.bn2.weight', 'backbone.layer1.2.bn2.bias', 'backbone.layer1.2.bn2.running_mean', 'backbone.layer1.2.bn2.running_var', 'backbone.layer1.2.bn2.num_batches_tracked', 'backbone.layer1.2.conv3.weight', 'backbone.layer1.2.bn3.weight', 'backbone.layer1.2.bn3.bias', 'backbone.layer1.2.bn3.running_mean', 'backbone.layer1.2.bn3.running_var', 'backbone.layer1.2.bn3.num_batches_tracked', 'backbone.layer2.0.conv1.weight', 'backbone.layer2.0.bn1.weight', 'backbone.layer2.0.bn1.bias', 'backbone.layer2.0.bn1.running_mean', 'backbone.layer2.0.bn1.running_var', 'backbone.layer2.0.bn1.num_batches_tracked', 'backbone.layer2.0.conv2.weight', 'backbone.layer2.0.bn2.weight', 'backbone.layer2.0.bn2.bias', 'backbone.layer2.0.bn2.running_mean', 'backbone.layer2.0.bn2.running_var', 'backbone.layer2.0.bn2.num_batches_tracked', 'backbone.layer2.0.conv3.weight', 'backbone.layer2.0.bn3.weight', 'backbone.layer2.0.bn3.bias', 'backbone.layer2.0.bn3.running_mean', 'backbone.layer2.0.bn3.running_var', 'backbone.layer2.0.bn3.num_batches_tracked', 'backbone.layer2.0.downsample.0.weight', 'backbone.layer2.0.downsample.1.weight', 'backbone.layer2.0.downsample.1.bias', 'backbone.layer2.0.downsample.1.running_mean', 'backbone.layer2.0.downsample.1.running_var', 'backbone.layer2.0.downsample.1.num_batches_tracked', 'backbone.layer2.1.conv1.weight', 'backbone.layer2.1.bn1.weight', 'backbone.layer2.1.bn1.bias', 'backbone.layer2.1.bn1.running_mean', 'backbone.layer2.1.bn1.running_var', 'backbone.layer2.1.bn1.num_batches_tracked', 'backbone.layer2.1.conv2.weight', 'backbone.layer2.1.bn2.weight', 'backbone.layer2.1.bn2.bias', 'backbone.layer2.1.bn2.running_mean', 'backbone.layer2.1.bn2.running_var', 'backbone.layer2.1.bn2.num_batches_tracked', 'backbone.layer2.1.conv3.weight', 'backbone.layer2.1.bn3.weight', 'backbone.layer2.1.bn3.bias', 'backbone.layer2.1.bn3.running_mean', 'backbone.layer2.1.bn3.running_var', 'backbone.layer2.1.bn3.num_batches_tracked', 'backbone.layer2.2.conv1.weight', 'backbone.layer2.2.bn1.weight', 'backbone.layer2.2.bn1.bias', 'backbone.layer2.2.bn1.running_mean', 'backbone.layer2.2.bn1.running_var', 'backbone.layer2.2.bn1.num_batches_tracked', 'backbone.layer2.2.conv2.weight', 'backbone.layer2.2.bn2.weight', 'backbone.layer2.2.bn2.bias', 'backbone.layer2.2.bn2.running_mean', 'backbone.layer2.2.bn2.running_var', 'backbone.layer2.2.bn2.num_batches_tracked', 'backbone.layer2.2.conv3.weight', 'backbone.layer2.2.bn3.weight', 'backbone.layer2.2.bn3.bias', 'backbone.layer2.2.bn3.running_mean', 'backbone.layer2.2.bn3.running_var', 'backbone.layer2.2.bn3.num_batches_tracked', 'backbone.layer2.3.conv1.weight', 'backbone.layer2.3.bn1.weight', 'backbone.layer2.3.bn1.bias', 'backbone.layer2.3.bn1.running_mean', 'backbone.layer2.3.bn1.running_var', 'backbone.layer2.3.bn1.num_batches_tracked', 'backbone.layer2.3.conv2.weight', 'backbone.layer2.3.bn2.weight', 'backbone.layer2.3.bn2.bias', 'backbone.layer2.3.bn2.running_mean', 'backbone.layer2.3.bn2.running_var', 'backbone.layer2.3.bn2.num_batches_tracked', 'backbone.layer2.3.conv3.weight', 'backbone.layer2.3.bn3.weight', 'backbone.layer2.3.bn3.bias', 'backbone.layer2.3.bn3.running_mean', 'backbone.layer2.3.bn3.running_var', 'backbone.layer2.3.bn3.num_batches_tracked', 'backbone.layer3.0.conv1.weight', 'backbone.layer3.0.bn1.weight', 'backbone.layer3.0.bn1.bias', 'backbone.layer3.0.bn1.running_mean', 'backbone.layer3.0.bn1.running_var', 'backbone.layer3.0.bn1.num_batches_tracked', 'backbone.layer3.0.conv2.weight', 'backbone.layer3.0.bn2.weight', 'backbone.layer3.0.bn2.bias', 'backbone.layer3.0.bn2.running_mean', 'backbone.layer3.0.bn2.running_var', 'backbone.layer3.0.bn2.num_batches_tracked', 'backbone.layer3.0.conv3.weight', 'backbone.layer3.0.bn3.weight', 'backbone.layer3.0.bn3.bias', 'backbone.layer3.0.bn3.running_mean', 'backbone.layer3.0.bn3.running_var', 'backbone.layer3.0.bn3.num_batches_tracked', 'backbone.layer3.0.downsample.0.weight', 'backbone.layer3.0.downsample.1.weight', 'backbone.layer3.0.downsample.1.bias', 'backbone.layer3.0.downsample.1.running_mean', 'backbone.layer3.0.downsample.1.running_var', 'backbone.layer3.0.downsample.1.num_batches_tracked', 'backbone.layer3.1.conv1.weight', 'backbone.layer3.1.bn1.weight', 'backbone.layer3.1.bn1.bias', 'backbone.layer3.1.bn1.running_mean', 'backbone.layer3.1.bn1.running_var', 'backbone.layer3.1.bn1.num_batches_tracked', 'backbone.layer3.1.conv2.weight', 'backbone.layer3.1.bn2.weight', 'backbone.layer3.1.bn2.bias', 'backbone.layer3.1.bn2.running_mean', 'backbone.layer3.1.bn2.running_var', 'backbone.layer3.1.bn2.num_batches_tracked', 'backbone.layer3.1.conv3.weight', 'backbone.layer3.1.bn3.weight', 'backbone.layer3.1.bn3.bias', 'backbone.layer3.1.bn3.running_mean', 'backbone.layer3.1.bn3.running_var', 'backbone.layer3.1.bn3.num_batches_tracked', 'backbone.layer3.2.conv1.weight', 'backbone.layer3.2.bn1.weight', 'backbone.layer3.2.bn1.bias', 'backbone.layer3.2.bn1.running_mean', 'backbone.layer3.2.bn1.running_var', 'backbone.layer3.2.bn1.num_batches_tracked', 'backbone.layer3.2.conv2.weight', 'backbone.layer3.2.bn2.weight', 'backbone.layer3.2.bn2.bias', 'backbone.layer3.2.bn2.running_mean', 'backbone.layer3.2.bn2.running_var', 'backbone.layer3.2.bn2.num_batches_tracked', 'backbone.layer3.2.conv3.weight', 'backbone.layer3.2.bn3.weight', 'backbone.layer3.2.bn3.bias', 'backbone.layer3.2.bn3.running_mean', 'backbone.layer3.2.bn3.running_var', 'backbone.layer3.2.bn3.num_batches_tracked', 'backbone.layer3.3.conv1.weight', 'backbone.layer3.3.bn1.weight', 'backbone.layer3.3.bn1.bias', 'backbone.layer3.3.bn1.running_mean', 'backbone.layer3.3.bn1.running_var', 'backbone.layer3.3.bn1.num_batches_tracked', 'backbone.layer3.3.conv2.weight', 'backbone.layer3.3.bn2.weight', 'backbone.layer3.3.bn2.bias', 'backbone.layer3.3.bn2.running_mean', 'backbone.layer3.3.bn2.running_var', 'backbone.layer3.3.bn2.num_batches_tracked', 'backbone.layer3.3.conv3.weight', 'backbone.layer3.3.bn3.weight', 'backbone.layer3.3.bn3.bias', 'backbone.layer3.3.bn3.running_mean', 'backbone.layer3.3.bn3.running_var', 'backbone.layer3.3.bn3.num_batches_tracked', 'backbone.layer3.4.conv1.weight', 'backbone.layer3.4.bn1.weight', 'backbone.layer3.4.bn1.bias', 'backbone.layer3.4.bn1.running_mean', 'backbone.layer3.4.bn1.running_var', 'backbone.layer3.4.bn1.num_batches_tracked', 'backbone.layer3.4.conv2.weight', 'backbone.layer3.4.bn2.weight', 'backbone.layer3.4.bn2.bias', 'backbone.layer3.4.bn2.running_mean', 'backbone.layer3.4.bn2.running_var', 'backbone.layer3.4.bn2.num_batches_tracked', 'backbone.layer3.4.conv3.weight', 'backbone.layer3.4.bn3.weight', 'backbone.layer3.4.bn3.bias', 'backbone.layer3.4.bn3.running_mean', 'backbone.layer3.4.bn3.running_var', 'backbone.layer3.4.bn3.num_batches_tracked', 'backbone.layer3.5.conv1.weight', 'backbone.layer3.5.bn1.weight', 'backbone.layer3.5.bn1.bias', 'backbone.layer3.5.bn1.running_mean', 'backbone.layer3.5.bn1.running_var', 'backbone.layer3.5.bn1.num_batches_tracked', 'backbone.layer3.5.conv2.weight', 'backbone.layer3.5.bn2.weight', 'backbone.layer3.5.bn2.bias', 'backbone.layer3.5.bn2.running_mean', 'backbone.layer3.5.bn2.running_var', 'backbone.layer3.5.bn2.num_batches_tracked', 'backbone.layer3.5.conv3.weight', 'backbone.layer3.5.bn3.weight', 'backbone.layer3.5.bn3.bias', 'backbone.layer3.5.bn3.running_mean', 'backbone.layer3.5.bn3.running_var', 'backbone.layer3.5.bn3.num_batches_tracked', 'backbone.layer4.0.conv1.weight', 'backbone.layer4.0.bn1.weight', 'backbone.layer4.0.bn1.bias', 'backbone.layer4.0.bn1.running_mean', 'backbone.layer4.0.bn1.running_var', 'backbone.layer4.0.bn1.num_batches_tracked', 'backbone.layer4.0.conv2.weight', 'backbone.layer4.0.bn2.weight', 'backbone.layer4.0.bn2.bias', 'backbone.layer4.0.bn2.running_mean', 'backbone.layer4.0.bn2.running_var', 'backbone.layer4.0.bn2.num_batches_tracked', 'backbone.layer4.0.conv3.weight', 'backbone.layer4.0.bn3.weight', 'backbone.layer4.0.bn3.bias', 'backbone.layer4.0.bn3.running_mean', 'backbone.layer4.0.bn3.running_var', 'backbone.layer4.0.bn3.num_batches_tracked', 'backbone.layer4.0.downsample.0.weight', 'backbone.layer4.0.downsample.1.weight', 'backbone.layer4.0.downsample.1.bias', 'backbone.layer4.0.downsample.1.running_mean', 'backbone.layer4.0.downsample.1.running_var', 'backbone.layer4.0.downsample.1.num_batches_tracked', 'backbone.layer4.1.conv1.weight', 'backbone.layer4.1.bn1.weight', 'backbone.layer4.1.bn1.bias', 'backbone.layer4.1.bn1.running_mean', 'backbone.layer4.1.bn1.running_var', 'backbone.layer4.1.bn1.num_batches_tracked', 'backbone.layer4.1.conv2.weight', 'backbone.layer4.1.bn2.weight', 'backbone.layer4.1.bn2.bias', 'backbone.layer4.1.bn2.running_mean', 'backbone.layer4.1.bn2.running_var', 'backbone.layer4.1.bn2.num_batches_tracked', 'backbone.layer4.1.conv3.weight', 'backbone.layer4.1.bn3.weight', 'backbone.layer4.1.bn3.bias', 'backbone.layer4.1.bn3.running_mean', 'backbone.layer4.1.bn3.running_var', 'backbone.layer4.1.bn3.num_batches_tracked', 'backbone.layer4.2.conv1.weight', 'backbone.layer4.2.bn1.weight', 'backbone.layer4.2.bn1.bias', 'backbone.layer4.2.bn1.running_mean', 'backbone.layer4.2.bn1.running_var', 'backbone.layer4.2.bn1.num_batches_tracked', 'backbone.layer4.2.conv2.weight', 'backbone.layer4.2.bn2.weight', 'backbone.layer4.2.bn2.bias', 'backbone.layer4.2.bn2.running_mean', 'backbone.layer4.2.bn2.running_var', 'backbone.layer4.2.bn2.num_batches_tracked', 'backbone.layer4.2.conv3.weight', 'backbone.layer4.2.bn3.weight', 'backbone.layer4.2.bn3.bias', 'backbone.layer4.2.bn3.running_mean', 'backbone.layer4.2.bn3.running_var', 'backbone.layer4.2.bn3.num_batches_tracked', 'neck.lateral_convs.0.conv.weight', 'neck.lateral_convs.0.conv.bias', 'neck.lateral_convs.1.conv.weight', 'neck.lateral_convs.1.conv.bias', 'neck.lateral_convs.2.conv.weight', 'neck.lateral_convs.2.conv.bias', 'neck.lateral_convs.3.conv.weight', 'neck.lateral_convs.3.conv.bias', 'neck.fpn_convs.0.conv.weight', 'neck.fpn_convs.0.conv.bias', 'neck.fpn_convs.1.conv.weight', 'neck.fpn_convs.1.conv.bias', 'neck.fpn_convs.2.conv.weight', 'neck.fpn_convs.2.conv.bias', 'neck.fpn_convs.3.conv.weight', 'neck.fpn_convs.3.conv.bias', 'rpn_head.rpn_conv.weight', 'rpn_head.rpn_conv.bias', 'rpn_head.rpn_cls.weight', 'rpn_head.rpn_cls.bias', 'rpn_head.rpn_reg.weight', 'rpn_head.rpn_reg.bias', 'roi_head.bbox_head.fc_cls.weight', 'roi_head.bbox_head.fc_cls.bias', 'roi_head.bbox_head.fc_reg.weight', 'roi_head.bbox_head.fc_reg.bias', 'roi_head.bbox_head.shared_fcs.0.weight', 'roi_head.bbox_head.shared_fcs.0.bias', 'roi_head.bbox_head.shared_fcs.1.weight', 'roi_head.bbox_head.shared_fcs.1.bias'])"
      ]
     },
     "execution_count": 4,
     "metadata": {},
     "output_type": "execute_result"
    }
   ],
   "source": [
    "model['state_dict'].keys()"
   ]
  },
  {
   "cell_type": "code",
   "execution_count": 5,
   "id": "shaped-anatomy",
   "metadata": {},
   "outputs": [],
   "source": [
    "model1 = torch.load('./venus/1/latest.pth', 'cpu')"
   ]
  },
  {
   "cell_type": "code",
   "execution_count": 7,
   "id": "shaped-financing",
   "metadata": {},
   "outputs": [
    {
     "data": {
      "text/plain": [
       "odict_keys(['backbone.conv1.weight', 'backbone.bn1.weight', 'backbone.bn1.bias', 'backbone.bn1.running_mean', 'backbone.bn1.running_var', 'backbone.bn1.num_batches_tracked', 'backbone.layer1.0.conv1.weight', 'backbone.layer1.0.bn1.weight', 'backbone.layer1.0.bn1.bias', 'backbone.layer1.0.bn1.running_mean', 'backbone.layer1.0.bn1.running_var', 'backbone.layer1.0.bn1.num_batches_tracked', 'backbone.layer1.0.conv2.weight', 'backbone.layer1.0.bn2.weight', 'backbone.layer1.0.bn2.bias', 'backbone.layer1.0.bn2.running_mean', 'backbone.layer1.0.bn2.running_var', 'backbone.layer1.0.bn2.num_batches_tracked', 'backbone.layer1.0.conv3.weight', 'backbone.layer1.0.bn3.weight', 'backbone.layer1.0.bn3.bias', 'backbone.layer1.0.bn3.running_mean', 'backbone.layer1.0.bn3.running_var', 'backbone.layer1.0.bn3.num_batches_tracked', 'backbone.layer1.0.downsample.0.weight', 'backbone.layer1.0.downsample.1.weight', 'backbone.layer1.0.downsample.1.bias', 'backbone.layer1.0.downsample.1.running_mean', 'backbone.layer1.0.downsample.1.running_var', 'backbone.layer1.0.downsample.1.num_batches_tracked', 'backbone.layer1.1.conv1.weight', 'backbone.layer1.1.bn1.weight', 'backbone.layer1.1.bn1.bias', 'backbone.layer1.1.bn1.running_mean', 'backbone.layer1.1.bn1.running_var', 'backbone.layer1.1.bn1.num_batches_tracked', 'backbone.layer1.1.conv2.weight', 'backbone.layer1.1.bn2.weight', 'backbone.layer1.1.bn2.bias', 'backbone.layer1.1.bn2.running_mean', 'backbone.layer1.1.bn2.running_var', 'backbone.layer1.1.bn2.num_batches_tracked', 'backbone.layer1.1.conv3.weight', 'backbone.layer1.1.bn3.weight', 'backbone.layer1.1.bn3.bias', 'backbone.layer1.1.bn3.running_mean', 'backbone.layer1.1.bn3.running_var', 'backbone.layer1.1.bn3.num_batches_tracked', 'backbone.layer1.2.conv1.weight', 'backbone.layer1.2.bn1.weight', 'backbone.layer1.2.bn1.bias', 'backbone.layer1.2.bn1.running_mean', 'backbone.layer1.2.bn1.running_var', 'backbone.layer1.2.bn1.num_batches_tracked', 'backbone.layer1.2.conv2.weight', 'backbone.layer1.2.bn2.weight', 'backbone.layer1.2.bn2.bias', 'backbone.layer1.2.bn2.running_mean', 'backbone.layer1.2.bn2.running_var', 'backbone.layer1.2.bn2.num_batches_tracked', 'backbone.layer1.2.conv3.weight', 'backbone.layer1.2.bn3.weight', 'backbone.layer1.2.bn3.bias', 'backbone.layer1.2.bn3.running_mean', 'backbone.layer1.2.bn3.running_var', 'backbone.layer1.2.bn3.num_batches_tracked', 'backbone.layer2.0.conv1.weight', 'backbone.layer2.0.bn1.weight', 'backbone.layer2.0.bn1.bias', 'backbone.layer2.0.bn1.running_mean', 'backbone.layer2.0.bn1.running_var', 'backbone.layer2.0.bn1.num_batches_tracked', 'backbone.layer2.0.conv2.weight', 'backbone.layer2.0.bn2.weight', 'backbone.layer2.0.bn2.bias', 'backbone.layer2.0.bn2.running_mean', 'backbone.layer2.0.bn2.running_var', 'backbone.layer2.0.bn2.num_batches_tracked', 'backbone.layer2.0.conv3.weight', 'backbone.layer2.0.bn3.weight', 'backbone.layer2.0.bn3.bias', 'backbone.layer2.0.bn3.running_mean', 'backbone.layer2.0.bn3.running_var', 'backbone.layer2.0.bn3.num_batches_tracked', 'backbone.layer2.0.downsample.0.weight', 'backbone.layer2.0.downsample.1.weight', 'backbone.layer2.0.downsample.1.bias', 'backbone.layer2.0.downsample.1.running_mean', 'backbone.layer2.0.downsample.1.running_var', 'backbone.layer2.0.downsample.1.num_batches_tracked', 'backbone.layer2.1.conv1.weight', 'backbone.layer2.1.bn1.weight', 'backbone.layer2.1.bn1.bias', 'backbone.layer2.1.bn1.running_mean', 'backbone.layer2.1.bn1.running_var', 'backbone.layer2.1.bn1.num_batches_tracked', 'backbone.layer2.1.conv2.weight', 'backbone.layer2.1.bn2.weight', 'backbone.layer2.1.bn2.bias', 'backbone.layer2.1.bn2.running_mean', 'backbone.layer2.1.bn2.running_var', 'backbone.layer2.1.bn2.num_batches_tracked', 'backbone.layer2.1.conv3.weight', 'backbone.layer2.1.bn3.weight', 'backbone.layer2.1.bn3.bias', 'backbone.layer2.1.bn3.running_mean', 'backbone.layer2.1.bn3.running_var', 'backbone.layer2.1.bn3.num_batches_tracked', 'backbone.layer2.2.conv1.weight', 'backbone.layer2.2.bn1.weight', 'backbone.layer2.2.bn1.bias', 'backbone.layer2.2.bn1.running_mean', 'backbone.layer2.2.bn1.running_var', 'backbone.layer2.2.bn1.num_batches_tracked', 'backbone.layer2.2.conv2.weight', 'backbone.layer2.2.bn2.weight', 'backbone.layer2.2.bn2.bias', 'backbone.layer2.2.bn2.running_mean', 'backbone.layer2.2.bn2.running_var', 'backbone.layer2.2.bn2.num_batches_tracked', 'backbone.layer2.2.conv3.weight', 'backbone.layer2.2.bn3.weight', 'backbone.layer2.2.bn3.bias', 'backbone.layer2.2.bn3.running_mean', 'backbone.layer2.2.bn3.running_var', 'backbone.layer2.2.bn3.num_batches_tracked', 'backbone.layer2.3.conv1.weight', 'backbone.layer2.3.bn1.weight', 'backbone.layer2.3.bn1.bias', 'backbone.layer2.3.bn1.running_mean', 'backbone.layer2.3.bn1.running_var', 'backbone.layer2.3.bn1.num_batches_tracked', 'backbone.layer2.3.conv2.weight', 'backbone.layer2.3.bn2.weight', 'backbone.layer2.3.bn2.bias', 'backbone.layer2.3.bn2.running_mean', 'backbone.layer2.3.bn2.running_var', 'backbone.layer2.3.bn2.num_batches_tracked', 'backbone.layer2.3.conv3.weight', 'backbone.layer2.3.bn3.weight', 'backbone.layer2.3.bn3.bias', 'backbone.layer2.3.bn3.running_mean', 'backbone.layer2.3.bn3.running_var', 'backbone.layer2.3.bn3.num_batches_tracked', 'backbone.layer3.0.conv1.weight', 'backbone.layer3.0.bn1.weight', 'backbone.layer3.0.bn1.bias', 'backbone.layer3.0.bn1.running_mean', 'backbone.layer3.0.bn1.running_var', 'backbone.layer3.0.bn1.num_batches_tracked', 'backbone.layer3.0.conv2.weight', 'backbone.layer3.0.bn2.weight', 'backbone.layer3.0.bn2.bias', 'backbone.layer3.0.bn2.running_mean', 'backbone.layer3.0.bn2.running_var', 'backbone.layer3.0.bn2.num_batches_tracked', 'backbone.layer3.0.conv3.weight', 'backbone.layer3.0.bn3.weight', 'backbone.layer3.0.bn3.bias', 'backbone.layer3.0.bn3.running_mean', 'backbone.layer3.0.bn3.running_var', 'backbone.layer3.0.bn3.num_batches_tracked', 'backbone.layer3.0.downsample.0.weight', 'backbone.layer3.0.downsample.1.weight', 'backbone.layer3.0.downsample.1.bias', 'backbone.layer3.0.downsample.1.running_mean', 'backbone.layer3.0.downsample.1.running_var', 'backbone.layer3.0.downsample.1.num_batches_tracked', 'backbone.layer3.1.conv1.weight', 'backbone.layer3.1.bn1.weight', 'backbone.layer3.1.bn1.bias', 'backbone.layer3.1.bn1.running_mean', 'backbone.layer3.1.bn1.running_var', 'backbone.layer3.1.bn1.num_batches_tracked', 'backbone.layer3.1.conv2.weight', 'backbone.layer3.1.bn2.weight', 'backbone.layer3.1.bn2.bias', 'backbone.layer3.1.bn2.running_mean', 'backbone.layer3.1.bn2.running_var', 'backbone.layer3.1.bn2.num_batches_tracked', 'backbone.layer3.1.conv3.weight', 'backbone.layer3.1.bn3.weight', 'backbone.layer3.1.bn3.bias', 'backbone.layer3.1.bn3.running_mean', 'backbone.layer3.1.bn3.running_var', 'backbone.layer3.1.bn3.num_batches_tracked', 'backbone.layer3.2.conv1.weight', 'backbone.layer3.2.bn1.weight', 'backbone.layer3.2.bn1.bias', 'backbone.layer3.2.bn1.running_mean', 'backbone.layer3.2.bn1.running_var', 'backbone.layer3.2.bn1.num_batches_tracked', 'backbone.layer3.2.conv2.weight', 'backbone.layer3.2.bn2.weight', 'backbone.layer3.2.bn2.bias', 'backbone.layer3.2.bn2.running_mean', 'backbone.layer3.2.bn2.running_var', 'backbone.layer3.2.bn2.num_batches_tracked', 'backbone.layer3.2.conv3.weight', 'backbone.layer3.2.bn3.weight', 'backbone.layer3.2.bn3.bias', 'backbone.layer3.2.bn3.running_mean', 'backbone.layer3.2.bn3.running_var', 'backbone.layer3.2.bn3.num_batches_tracked', 'backbone.layer3.3.conv1.weight', 'backbone.layer3.3.bn1.weight', 'backbone.layer3.3.bn1.bias', 'backbone.layer3.3.bn1.running_mean', 'backbone.layer3.3.bn1.running_var', 'backbone.layer3.3.bn1.num_batches_tracked', 'backbone.layer3.3.conv2.weight', 'backbone.layer3.3.bn2.weight', 'backbone.layer3.3.bn2.bias', 'backbone.layer3.3.bn2.running_mean', 'backbone.layer3.3.bn2.running_var', 'backbone.layer3.3.bn2.num_batches_tracked', 'backbone.layer3.3.conv3.weight', 'backbone.layer3.3.bn3.weight', 'backbone.layer3.3.bn3.bias', 'backbone.layer3.3.bn3.running_mean', 'backbone.layer3.3.bn3.running_var', 'backbone.layer3.3.bn3.num_batches_tracked', 'backbone.layer3.4.conv1.weight', 'backbone.layer3.4.bn1.weight', 'backbone.layer3.4.bn1.bias', 'backbone.layer3.4.bn1.running_mean', 'backbone.layer3.4.bn1.running_var', 'backbone.layer3.4.bn1.num_batches_tracked', 'backbone.layer3.4.conv2.weight', 'backbone.layer3.4.bn2.weight', 'backbone.layer3.4.bn2.bias', 'backbone.layer3.4.bn2.running_mean', 'backbone.layer3.4.bn2.running_var', 'backbone.layer3.4.bn2.num_batches_tracked', 'backbone.layer3.4.conv3.weight', 'backbone.layer3.4.bn3.weight', 'backbone.layer3.4.bn3.bias', 'backbone.layer3.4.bn3.running_mean', 'backbone.layer3.4.bn3.running_var', 'backbone.layer3.4.bn3.num_batches_tracked', 'backbone.layer3.5.conv1.weight', 'backbone.layer3.5.bn1.weight', 'backbone.layer3.5.bn1.bias', 'backbone.layer3.5.bn1.running_mean', 'backbone.layer3.5.bn1.running_var', 'backbone.layer3.5.bn1.num_batches_tracked', 'backbone.layer3.5.conv2.weight', 'backbone.layer3.5.bn2.weight', 'backbone.layer3.5.bn2.bias', 'backbone.layer3.5.bn2.running_mean', 'backbone.layer3.5.bn2.running_var', 'backbone.layer3.5.bn2.num_batches_tracked', 'backbone.layer3.5.conv3.weight', 'backbone.layer3.5.bn3.weight', 'backbone.layer3.5.bn3.bias', 'backbone.layer3.5.bn3.running_mean', 'backbone.layer3.5.bn3.running_var', 'backbone.layer3.5.bn3.num_batches_tracked', 'backbone.layer4.0.conv1.weight', 'backbone.layer4.0.bn1.weight', 'backbone.layer4.0.bn1.bias', 'backbone.layer4.0.bn1.running_mean', 'backbone.layer4.0.bn1.running_var', 'backbone.layer4.0.bn1.num_batches_tracked', 'backbone.layer4.0.conv2.weight', 'backbone.layer4.0.bn2.weight', 'backbone.layer4.0.bn2.bias', 'backbone.layer4.0.bn2.running_mean', 'backbone.layer4.0.bn2.running_var', 'backbone.layer4.0.bn2.num_batches_tracked', 'backbone.layer4.0.conv3.weight', 'backbone.layer4.0.bn3.weight', 'backbone.layer4.0.bn3.bias', 'backbone.layer4.0.bn3.running_mean', 'backbone.layer4.0.bn3.running_var', 'backbone.layer4.0.bn3.num_batches_tracked', 'backbone.layer4.0.downsample.0.weight', 'backbone.layer4.0.downsample.1.weight', 'backbone.layer4.0.downsample.1.bias', 'backbone.layer4.0.downsample.1.running_mean', 'backbone.layer4.0.downsample.1.running_var', 'backbone.layer4.0.downsample.1.num_batches_tracked', 'backbone.layer4.1.conv1.weight', 'backbone.layer4.1.bn1.weight', 'backbone.layer4.1.bn1.bias', 'backbone.layer4.1.bn1.running_mean', 'backbone.layer4.1.bn1.running_var', 'backbone.layer4.1.bn1.num_batches_tracked', 'backbone.layer4.1.conv2.weight', 'backbone.layer4.1.bn2.weight', 'backbone.layer4.1.bn2.bias', 'backbone.layer4.1.bn2.running_mean', 'backbone.layer4.1.bn2.running_var', 'backbone.layer4.1.bn2.num_batches_tracked', 'backbone.layer4.1.conv3.weight', 'backbone.layer4.1.bn3.weight', 'backbone.layer4.1.bn3.bias', 'backbone.layer4.1.bn3.running_mean', 'backbone.layer4.1.bn3.running_var', 'backbone.layer4.1.bn3.num_batches_tracked', 'backbone.layer4.2.conv1.weight', 'backbone.layer4.2.bn1.weight', 'backbone.layer4.2.bn1.bias', 'backbone.layer4.2.bn1.running_mean', 'backbone.layer4.2.bn1.running_var', 'backbone.layer4.2.bn1.num_batches_tracked', 'backbone.layer4.2.conv2.weight', 'backbone.layer4.2.bn2.weight', 'backbone.layer4.2.bn2.bias', 'backbone.layer4.2.bn2.running_mean', 'backbone.layer4.2.bn2.running_var', 'backbone.layer4.2.bn2.num_batches_tracked', 'backbone.layer4.2.conv3.weight', 'backbone.layer4.2.bn3.weight', 'backbone.layer4.2.bn3.bias', 'backbone.layer4.2.bn3.running_mean', 'backbone.layer4.2.bn3.running_var', 'backbone.layer4.2.bn3.num_batches_tracked', 'neck.lateral_convs.0.conv.weight', 'neck.lateral_convs.0.conv.bias', 'neck.lateral_convs.1.conv.weight', 'neck.lateral_convs.1.conv.bias', 'neck.lateral_convs.2.conv.weight', 'neck.lateral_convs.2.conv.bias', 'neck.lateral_convs.3.conv.weight', 'neck.lateral_convs.3.conv.bias', 'neck.fpn_convs.0.conv.weight', 'neck.fpn_convs.0.conv.bias', 'neck.fpn_convs.1.conv.weight', 'neck.fpn_convs.1.conv.bias', 'neck.fpn_convs.2.conv.weight', 'neck.fpn_convs.2.conv.bias', 'neck.fpn_convs.3.conv.weight', 'neck.fpn_convs.3.conv.bias', 'rpn_head.rpn_conv.weight', 'rpn_head.rpn_conv.bias', 'rpn_head.rpn_cls.weight', 'rpn_head.rpn_cls.bias', 'rpn_head.rpn_reg.weight', 'rpn_head.rpn_reg.bias', 'roi_head.bbox_head.fc_cls.weight', 'roi_head.bbox_head.fc_cls.bias', 'roi_head.bbox_head.fc_reg.weight', 'roi_head.bbox_head.fc_reg.bias', 'roi_head.bbox_head.shared_fcs.0.weight', 'roi_head.bbox_head.shared_fcs.0.bias', 'roi_head.bbox_head.shared_fcs.1.weight', 'roi_head.bbox_head.shared_fcs.1.bias', 'roi_head.mask_head.convs.0.conv.weight', 'roi_head.mask_head.convs.0.conv.bias', 'roi_head.mask_head.convs.1.conv.weight', 'roi_head.mask_head.convs.1.conv.bias', 'roi_head.mask_head.convs.2.conv.weight', 'roi_head.mask_head.convs.2.conv.bias', 'roi_head.mask_head.convs.3.conv.weight', 'roi_head.mask_head.convs.3.conv.bias', 'roi_head.mask_head.upsample.weight', 'roi_head.mask_head.upsample.bias', 'roi_head.mask_head.conv_logits.weight', 'roi_head.mask_head.conv_logits.bias'])"
      ]
     },
     "execution_count": 7,
     "metadata": {},
     "output_type": "execute_result"
    }
   ],
   "source": [
    "model1['state_dict'].keys()"
   ]
  },
  {
   "cell_type": "code",
   "execution_count": null,
   "id": "sustainable-soundtrack",
   "metadata": {},
   "outputs": [],
   "source": []
  },
  {
   "cell_type": "code",
   "execution_count": null,
   "id": "surrounded-thomas",
   "metadata": {},
   "outputs": [],
   "source": []
  }
 ],
 "metadata": {
  "kernelspec": {
   "display_name": "Environment (conda_canarydev)",
   "language": "python",
   "name": "conda_canarydev"
  },
  "language_info": {
   "codemirror_mode": {
    "name": "ipython",
    "version": 3
   },
   "file_extension": ".py",
   "mimetype": "text/x-python",
   "name": "python",
   "nbconvert_exporter": "python",
   "pygments_lexer": "ipython3",
   "version": "3.6.12"
  }
 },
 "nbformat": 4,
 "nbformat_minor": 5
}
