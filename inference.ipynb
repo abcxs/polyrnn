{
 "cells": [
  {
   "cell_type": "code",
   "execution_count": 1,
   "id": "1440ccd3",
   "metadata": {},
   "outputs": [],
   "source": [
    "import os\n",
    "os.environ['CUDA_VISIBLE_DEVICES'] = '4'\n",
    "from pycocotools.coco import COCO\n",
    "site = 'val'\n",
    "img_dir = f'./data/yunnan_512/{site}/JPEGImages'\n",
    "json_path = f'./data/yunnan_512/{site}/{site}.json'"
   ]
  },
  {
   "cell_type": "code",
   "execution_count": 2,
   "id": "a89bafb9",
   "metadata": {},
   "outputs": [
    {
     "name": "stdout",
     "output_type": "stream",
     "text": [
      "loading annotations into memory...\n",
      "Done (t=0.12s)\n",
      "creating index...\n",
      "index created!\n"
     ]
    }
   ],
   "source": [
    "coco = COCO(json_path)\n",
    "img_ids = set(_['image_id'] for _ in coco.anns.values())"
   ]
  },
  {
   "cell_type": "code",
   "execution_count": 3,
   "id": "1899fc77",
   "metadata": {},
   "outputs": [
    {
     "name": "stdout",
     "output_type": "stream",
     "text": [
      "Use load_from_local loader\n"
     ]
    }
   ],
   "source": [
    "from mmdet.apis import init_detector, inference_detector, show_result_pyplot\n",
    "import mmcv\n",
    "import glob\n",
    "work_dir = './venus_last/15'\n",
    "config_file = glob.glob(os.path.join(work_dir, '*.py'))[0]\n",
    "checkpoint_file = os.path.join(work_dir, 'epoch_22.pth')\n",
    "cfg_options = {}\n",
    "cfg_options = {'model.roi_head.polygon_head.polyrnn_head.weight_kernel_params.kernel_size': 3, \n",
    "               'model.roi_head.polygon_head.polyrnn_head.weight_kernel_params.type': 'gaussian'}\n",
    "\n",
    "model = init_detector(config_file, checkpoint_file, device='cuda:0', cfg_options=cfg_options)"
   ]
  },
  {
   "cell_type": "code",
   "execution_count": 4,
   "id": "0f5a3540",
   "metadata": {},
   "outputs": [],
   "source": [
    "import numpy as np\n",
    "import mmcv\n",
    "import cv2\n",
    "import torch\n",
    "def show_result(img_path, result, score_thr):\n",
    "    img = cv2.imread(img_path)\n",
    "    bbox_result, segm_result = result\n",
    "    bboxes = np.vstack(bbox_result)\n",
    "    labels = [\n",
    "        np.full(bbox.shape[0], i, dtype=np.int32)\n",
    "        for i, bbox in enumerate(bbox_result)\n",
    "    ]\n",
    "    labels = np.concatenate(labels)\n",
    "    # draw segmentation masks\n",
    "    segms = None\n",
    "    if segm_result is not None and len(labels) > 0:  # non empty\n",
    "        segms = mmcv.concat_list(segm_result)\n",
    "        if isinstance(segms[0], torch.Tensor):\n",
    "            segms = torch.stack(segms, dim=0).detach().cpu().numpy()\n",
    "        else:\n",
    "            segms = np.stack(segms, axis=0)\n",
    "    scores = bboxes[:, -1]\n",
    "    inds = scores > score_thr\n",
    "    bboxes = bboxes[inds, :]\n",
    "    labels = labels[inds]\n",
    "    if segms is not None:\n",
    "        segms = segms[inds, ...]\n",
    "    for i, (bbox, label) in enumerate(zip(bboxes, labels)):\n",
    "        mask = segms[i].astype(np.uint8)\n",
    "        contours, hierarchy = cv2.findContours(mask[..., None], cv2.RETR_TREE, cv2.CHAIN_APPROX_SIMPLE)\n",
    "        cv2.drawContours(img, contours, -1, (0,0,255), 2)\n",
    "    return img"
   ]
  },
  {
   "cell_type": "code",
   "execution_count": 5,
   "id": "9a4f2c91",
   "metadata": {},
   "outputs": [
    {
     "name": "stdout",
     "output_type": "stream",
     "text": [
      "1151\n"
     ]
    }
   ],
   "source": [
    "print(len(img_ids))\n",
    "output_dir = './polyrnn_visual_yunnan'\n",
    "os.makedirs(output_dir, exist_ok=True)"
   ]
  },
  {
   "cell_type": "code",
   "execution_count": null,
   "id": "b24d0298",
   "metadata": {},
   "outputs": [
    {
     "name": "stderr",
     "output_type": "stream",
     "text": [
      " 84%|████████▍ | 966/1151 [58:25<11:49,  3.84s/it]  "
     ]
    }
   ],
   "source": [
    "import matplotlib.pyplot as plt\n",
    "from tqdm import tqdm\n",
    "img_ids = list(img_ids)\n",
    "\n",
    "for bi, img_id in enumerate(tqdm(img_ids)):\n",
    "    fn = coco.load_imgs([img_id])[0]['file_name']\n",
    "    img_path = os.path.join(img_dir, fn)\n",
    "    result = inference_detector(model, img_path)\n",
    "#     show_result_pyplot(model, img_path, result, score_thr=0.2)\n",
    "    img = show_result(img_path, result, score_thr=0.5)\n",
    "#     img = img[:, :, ::-1]\n",
    "#     plt.figure(figsize=(15, 10))\n",
    "#     plt.axis('off')\n",
    "#     plt.imshow(img)\n",
    "#     plt.show()\n",
    "    out_path = os.path.join(output_dir, fn)\n",
    "    cv2.imwrite(out_path, img)\n",
    "#     if bi > 10:\n",
    "#         break"
   ]
  },
  {
   "cell_type": "code",
   "execution_count": 9,
   "id": "08358280",
   "metadata": {},
   "outputs": [
    {
     "name": "stdout",
     "output_type": "stream",
     "text": [
      "1151\n"
     ]
    }
   ],
   "source": [
    "!ls polyrnn_visual_yunnan | wc -l"
   ]
  },
  {
   "cell_type": "markdown",
   "id": "4c15ca37",
   "metadata": {},
   "source": [
    "### RUN POLYRNN"
   ]
  },
  {
   "cell_type": "code",
   "execution_count": 14,
   "id": "8081e517",
   "metadata": {},
   "outputs": [],
   "source": [
    "import os\n",
    "os.environ['CUDA_VISIBLE_DEVICES'] = '1'\n",
    "from subprocess import Popen"
   ]
  },
  {
   "cell_type": "code",
   "execution_count": 15,
   "id": "7d74db96",
   "metadata": {},
   "outputs": [
    {
     "data": {
      "text/plain": [
       "'python tools/test.py ./venus_last_tf/15/tf_polyrnn_r50_fpn_1x_building_edge_0412_1.py ./venus_last_tf/15/latest.pth --cfg-options model.roi_head.polygon_head.polyrnn_head.weight_kernel_params.kernel_size=3 model.roi_head.polygon_head.polyrnn_head.weight_kernel_params.type=gaussian --out ./venus_last_tf/15/result.pkl --eval bbox segm > ./venus_last_tf/15/result_out.log'"
      ]
     },
     "execution_count": 15,
     "metadata": {},
     "output_type": "execute_result"
    }
   ],
   "source": [
    "import glob\n",
    "test_work_dir = './venus_last_tf/15'\n",
    "cfg_options = ''\n",
    "cfg_options += 'model.roi_head.polygon_head.polyrnn_head.weight_kernel_params.kernel_size=3 '\n",
    "cfg_options += 'model.roi_head.polygon_head.polyrnn_head.weight_kernel_params.type=gaussian'\n",
    "log = os.path.join(test_work_dir, 'result_out.log')\n",
    "# config = './configs/polygon/polyrnn_r50_fpn_1x_building_0329_3.py'\n",
    "config = glob.glob(os.path.join(test_work_dir, '*.py'))[0]\n",
    "checkpoint = os.path.join(test_work_dir, 'latest.pth')\n",
    "if cfg_options:\n",
    "    execmd = f'python tools/test.py {config} {checkpoint} --cfg-options {cfg_options} --out {test_work_dir}/result.pkl --eval bbox segm > {log}'\n",
    "else:\n",
    "    execmd = f'python tools/test.py {config} {checkpoint} --out {test_work_dir}/result.pkl --eval bbox segm > {log}'\n",
    "execmd"
   ]
  },
  {
   "cell_type": "code",
   "execution_count": null,
   "id": "8b641ae1",
   "metadata": {},
   "outputs": [],
   "source": [
    "p = Popen(execmd, shell=True)\n",
    "p.wait()"
   ]
  },
  {
   "cell_type": "code",
   "execution_count": null,
   "id": "62add1a9",
   "metadata": {},
   "outputs": [],
   "source": []
  }
 ],
 "metadata": {
  "kernelspec": {
   "display_name": "Environment (conda_roczhou_mmd)",
   "language": "python",
   "name": "conda_roczhou_mmd"
  },
  "language_info": {
   "codemirror_mode": {
    "name": "ipython",
    "version": 3
   },
   "file_extension": ".py",
   "mimetype": "text/x-python",
   "name": "python",
   "nbconvert_exporter": "python",
   "pygments_lexer": "ipython3",
   "version": "3.6.12"
  }
 },
 "nbformat": 4,
 "nbformat_minor": 5
}
