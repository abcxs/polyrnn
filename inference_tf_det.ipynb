{
 "cells": [
  {
   "cell_type": "code",
   "execution_count": null,
   "metadata": {},
   "outputs": [],
   "source": [
    "import os\n",
    "os.environ['CUDA_VISIBLE_DEVICES'] = '5'\n",
    "from pycocotools.coco import COCO\n",
    "site = 'val'\n",
    "img_dir = f'./data/jinan/pan/{site}/JPEGImages'\n",
    "json_path = f'./data/jinan/fusion/{site}/{site}.json'"
   ]
  },
  {
   "cell_type": "code",
   "execution_count": null,
   "metadata": {},
   "outputs": [],
   "source": [
    "coco = COCO(json_path)\n",
    "img_ids = set(_['image_id'] for _ in coco.anns.values())"
   ]
  },
  {
   "cell_type": "code",
   "execution_count": null,
   "metadata": {},
   "outputs": [],
   "source": [
    "from mmdet.apis import init_detector, show_result_pyplot, inference_detector\n",
    "import mmcv\n",
    "import glob\n",
    "import os\n",
    "work_dir = './checkpoints/tf_net'\n",
    "config_file = glob.glob(os.path.join(work_dir, '*.py'))[0]\n",
    "checkpoint_file = glob.glob(os.path.join(work_dir, '*.pth'))[0]\n",
    "cfg_options = {}\n",
    "\n",
    "model = init_detector(config_file, checkpoint_file, device='cuda:0', cfg_options=cfg_options)"
   ]
  },
  {
   "cell_type": "code",
   "execution_count": null,
   "metadata": {},
   "outputs": [],
   "source": [
    "import numpy as np\n",
    "import mmcv\n",
    "import cv2\n",
    "import torch\n",
    "import tifffile as tiff\n",
    "def show_mask_result(img, result, score_thr):\n",
    "    # 基于掩码，提取轮廓显示\n",
    "    bbox_result, segm_result = result[:2]\n",
    "    bboxes = np.vstack(bbox_result)\n",
    "    labels = [\n",
    "        np.full(bbox.shape[0], i, dtype=np.int32)\n",
    "        for i, bbox in enumerate(bbox_result)\n",
    "    ]\n",
    "    labels = np.concatenate(labels)\n",
    "    # draw segmentation masks\n",
    "    segms = None\n",
    "    if segm_result is not None and len(labels) > 0:  # non empty\n",
    "        segms = mmcv.concat_list(segm_result)\n",
    "        if isinstance(segms[0], torch.Tensor):\n",
    "            segms = torch.stack(segms, dim=0).detach().cpu().numpy()\n",
    "        else:\n",
    "            segms = np.stack(segms, axis=0)\n",
    "    scores = bboxes[:, -1]\n",
    "    inds = scores > score_thr\n",
    "    bboxes = bboxes[inds, :]\n",
    "    labels = labels[inds]\n",
    "    if segms is not None:\n",
    "        segms = segms[inds, ...]\n",
    "    points = []\n",
    "    for i in range(len(bboxes)):\n",
    "        mask = segms[i].astype(np.uint8)\n",
    "        contours, _ = cv2.findContours(mask[..., None], cv2.RETR_TREE, cv2.CHAIN_APPROX_SIMPLE)\n",
    "        cv2.drawContours(img, contours, -1, (0,0,255), 2)\n",
    "        for contour in contours:\n",
    "            points.append(len(contour))\n",
    "    return img, sum(points) / len(points)\n",
    "\n",
    "def show_polygon_result(img, result, score_thr):\n",
    "    # 根据点结果，显示轮廓\n",
    "    bbox_result, _, polygon_result = result\n",
    "\n",
    "    bboxes = np.vstack(bbox_result)\n",
    "    scores = bboxes[:, -1]\n",
    "    inds = np.nonzero(scores > score_thr)[0]\n",
    "    points = []\n",
    "    for i in inds:\n",
    "        poly = np.array(polygon_result[0][i]).reshape(-1, 2).astype(np.int32)\n",
    "        points.append(len(poly))\n",
    "        cv2.polylines(img, [poly], True, (0, 0, 255), 2)\n",
    "    return img, sum(points) / len(points)\n",
    "\n",
    "def show_det_result(img, result, score_thr):\n",
    "    bbox_result = result\n",
    "    bboxes = np.vstack(bbox_result)\n",
    "    scores = bboxes[:, -1]\n",
    "    inds = scores > score_thr\n",
    "    bboxes = bboxes[inds, :]\n",
    "    for box in bboxes:\n",
    "        x1, y1, x2, y2 = box.astype(np.int32).tolist()[:4]\n",
    "        cv2.rectangle(img, (x1, y1), (x2, y2), (0, 0, 255), 2)\n",
    "    return img\n",
    "\n",
    "def show_result(img_path, result, score_thr, ret_det=False):\n",
    "    if os.path.splitext(img_path)[1].lower() == '.tif':\n",
    "        img = tiff.imread(img_path)\n",
    "        img = img[:, :, :3][:, :, ::-1]\n",
    "        img = img.copy()\n",
    "    else:\n",
    "        img = cv2.imread(img_path)\n",
    "    if ret_det:\n",
    "        return show_det_result(img, result, score_thr=score_thr)\n",
    "    if len(result) == 3:\n",
    "        return show_polygon_result(img, result, score_thr=score_thr)\n",
    "    else:\n",
    "        return show_mask_result(img, result, score_thr=score_thr)"
   ]
  },
  {
   "cell_type": "code",
   "execution_count": null,
   "metadata": {},
   "outputs": [],
   "source": [
    "print(len(img_ids))"
   ]
  },
  {
   "cell_type": "code",
   "execution_count": null,
   "metadata": {},
   "outputs": [],
   "source": [
    "output_dir = './visual_tf_det'\n",
    "os.makedirs(output_dir, exist_ok=True)"
   ]
  },
  {
   "cell_type": "code",
   "execution_count": null,
   "metadata": {
    "tags": []
   },
   "outputs": [],
   "source": [
    "import matplotlib.pyplot as plt\n",
    "from tqdm import tqdm\n",
    "img_ids = list(img_ids)\n",
    "\n",
    "for bi, img_id in enumerate(tqdm(img_ids)):\n",
    "    fn = coco.load_imgs([img_id])[0]['file_name']\n",
    "    img_path = os.path.join(img_dir, fn)\n",
    "    \n",
    "    result = inference_detector(model, img_path)\n",
    "#     show_result_pyplot(model, img_path, result, score_thr=0.2)\n",
    "    img_path = img_path.replace('pan', 'fusion')\n",
    "    img = show_result(img_path, result, score_thr=0.5, ret_det=True)\n",
    "    # img = img[:, :, ::-1]\n",
    "    # plt.figure(figsize=(15, 10))\n",
    "    # plt.axis('off')\n",
    "    # plt.imshow(img)\n",
    "    # plt.show()\n",
    "    out_path = os.path.join(output_dir, fn)\n",
    "    out_path = out_path.replace('.tif', '.png')\n",
    "    cv2.imwrite(out_path, img)\n",
    "    # if bi > 10:\n",
    "    #     break"
   ]
  },
  {
   "cell_type": "code",
   "execution_count": null,
   "metadata": {},
   "outputs": [],
   "source": []
  }
 ],
 "metadata": {
  "kernelspec": {
   "name": "python370jvsc74a57bd02b250b86d03d813817a24e8c07d2c145b7b4f29b68e463352a8b3d5f149cf0fc",
   "display_name": "Python 3.7.0 64-bit ('polyrnn': conda)"
  },
  "language_info": {
   "codemirror_mode": {
    "name": "ipython",
    "version": 3
   },
   "file_extension": ".py",
   "mimetype": "text/x-python",
   "name": "python",
   "nbconvert_exporter": "python",
   "pygments_lexer": "ipython3",
   "version": "3.7.0"
  },
  "metadata": {
   "interpreter": {
    "hash": "2b250b86d03d813817a24e8c07d2c145b7b4f29b68e463352a8b3d5f149cf0fc"
   }
  }
 },
 "nbformat": 4,
 "nbformat_minor": 5
}