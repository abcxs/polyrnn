{
 "cells": [
  {
   "cell_type": "code",
   "execution_count": null,
   "id": "1440ccd3",
   "metadata": {},
   "outputs": [],
   "source": [
    "import os\n",
    "os.environ['CUDA_VISIBLE_DEVICES'] = '4'\n",
    "from pycocotools.coco import COCO\n",
    "site = 'val'\n",
    "img_dir = f'./data/yunnan_512/{site}/JPEGImages'\n",
    "json_path = f'./data/yunnan_512/{site}/{site}.json'"
   ]
  },
  {
   "cell_type": "code",
   "execution_count": null,
   "id": "a89bafb9",
   "metadata": {},
   "outputs": [],
   "source": [
    "coco = COCO(json_path)\n",
    "img_ids = set(_['image_id'] for _ in coco.anns.values())"
   ]
  },
  {
   "cell_type": "code",
   "execution_count": null,
   "id": "1899fc77",
   "metadata": {},
   "outputs": [],
   "source": [
    "from mmdet.apis import init_detector, inference_detector, show_result_pyplot\n",
    "import mmcv\n",
    "import glob\n",
    "work_dir = './checkpoints/mask'\n",
    "config_file = glob.glob(os.path.join(work_dir, '*.py'))[0]\n",
    "checkpoint_file = glob.glob(os.path.join(work_dir, '*.pth'))[0]\n",
    "cfg_options = {}\n",
    "# cfg_options = {'model.roi_head.polygon_head.polyrnn_head.weight_kernel_params.kernel_size': 3, \n",
    "#                'model.roi_head.polygon_head.polyrnn_head.weight_kernel_params.type': 'gaussian'}\n",
    "\n",
    "model = init_detector(config_file, checkpoint_file, device='cuda:0', cfg_options=cfg_options)"
   ]
  },
  {
   "cell_type": "code",
   "execution_count": null,
   "id": "0f5a3540",
   "metadata": {},
   "outputs": [],
   "source": [
    "import numpy as np\n",
    "import mmcv\n",
    "import cv2\n",
    "import torch\n",
    "import numpy as np\n",
    "import mmcv\n",
    "import cv2\n",
    "import torch\n",
    "import tifffile as tiff\n",
    "def show_mask_result(img, result, score_thr, ret_rect=False):\n",
    "    # 基于掩码，提取轮廓显示\n",
    "    bbox_result, segm_result = result[:2]\n",
    "    bboxes = np.vstack(bbox_result)\n",
    "    labels = [\n",
    "        np.full(bbox.shape[0], i, dtype=np.int32)\n",
    "        for i, bbox in enumerate(bbox_result)\n",
    "    ]\n",
    "    labels = np.concatenate(labels)\n",
    "    # draw segmentation masks\n",
    "    segms = None\n",
    "    if segm_result is not None and len(labels) > 0:  # non empty\n",
    "        segms = mmcv.concat_list(segm_result)\n",
    "        if isinstance(segms[0], torch.Tensor):\n",
    "            segms = torch.stack(segms, dim=0).detach().cpu().numpy()\n",
    "        else:\n",
    "            segms = np.stack(segms, axis=0)\n",
    "    scores = bboxes[:, -1]\n",
    "    inds = scores > score_thr\n",
    "    bboxes = bboxes[inds, :]\n",
    "    labels = labels[inds]\n",
    "    if segms is not None:\n",
    "        segms = segms[inds, ...]\n",
    "    points = []\n",
    "    for i in range(len(bboxes)):\n",
    "        mask = segms[i].astype(np.uint8)\n",
    "        contours, _ = cv2.findContours(mask[..., None], cv2.RETR_TREE, cv2.CHAIN_APPROX_SIMPLE)\n",
    "        if not ret_rect:\n",
    "            cv2.drawContours(img, contours, -1, (0,0,255), 2)\n",
    "        for contour in contours:\n",
    "            if not ret_rect:\n",
    "                cv2.polylines(img, [contour], True, (0, 0, 255), 2)\n",
    "                points.append(len(contour))\n",
    "            else:\n",
    "                rect = cv2.minAreaRect(contour)\n",
    "                rect_points = cv2.boxPoints(rect).astype(np.int32)\n",
    "                cv2.polylines(img, [rect_points], True, (0, 0, 255), 2)\n",
    "                points.append(4)\n",
    "\n",
    "    return img, sum(points) / (len(points) + 1e-5)\n",
    "\n",
    "def show_polygon_result(img, result, score_thr):\n",
    "    # 根据点结果，显示轮廓\n",
    "    bbox_result, _, polygon_result = result\n",
    "\n",
    "    bboxes = np.vstack(bbox_result)\n",
    "    scores = bboxes[:, -1]\n",
    "    inds = np.nonzero(scores > score_thr)[0]\n",
    "    points = []\n",
    "    for i in inds:\n",
    "        poly = np.array(polygon_result[0][i]).reshape(-1, 2).astype(np.int32)\n",
    "        points.append(len(poly))\n",
    "        cv2.polylines(img, [poly], True, (0, 0, 255), 2)\n",
    "    return img, sum(points) / (len(points) + 1e-5)\n",
    "\n",
    "def show_det_result(img, result, score_thr):\n",
    "    bbox_result = result\n",
    "    bboxes = np.vstack(bbox_result)\n",
    "    scores = bboxes[:, -1]\n",
    "    inds = scores > score_thr\n",
    "    bboxes = bboxes[inds, :]\n",
    "    for box in bboxes:\n",
    "        x1, y1, x2, y2 = box.astype(np.int32).tolist()[:4]\n",
    "        cv2.rectangle(img, (x1, y1), (x2, y2), (0, 0, 255), 2)\n",
    "    return img, 4\n",
    "\n",
    "def show_result(img_path, result, score_thr, ret_det=False, ret_rect=False):\n",
    "    if os.path.splitext(img_path)[1].lower() == '.tif':\n",
    "        img = tiff.imread(img_path)\n",
    "        img = img[:, :, :3][:, :, ::-1]\n",
    "        img = img.copy()\n",
    "    else:\n",
    "        img = cv2.imread(img_path)\n",
    "    if ret_det:\n",
    "        if isinstance(result, tuple):\n",
    "            result = result[0]\n",
    "        return show_det_result(img, result, score_thr=score_thr)\n",
    "    if len(result) == 3:\n",
    "        return show_polygon_result(img, result, score_thr=score_thr)\n",
    "    else:\n",
    "        return show_mask_result(img, result, score_thr=score_thr, ret_rect=ret_rect)"
   ]
  },
  {
   "cell_type": "code",
   "execution_count": null,
   "id": "9a4f2c91",
   "metadata": {},
   "outputs": [],
   "source": [
    "print(len(img_ids))\n",
    "output_dir = './mask_rcnn_visual_yunnan_rect'\n",
    "os.makedirs(output_dir, exist_ok=True)"
   ]
  },
  {
   "cell_type": "code",
   "execution_count": null,
   "id": "b24d0298",
   "metadata": {},
   "outputs": [],
   "source": [
    "import matplotlib.pyplot as plt\n",
    "from tqdm import tqdm\n",
    "img_ids = list(img_ids)\n",
    "\n",
    "for bi, img_id in enumerate(tqdm(img_ids)):\n",
    "    fn = coco.load_imgs([img_id])[0]['file_name']\n",
    "    img_path = os.path.join(img_dir, fn)\n",
    "    result = inference_detector(model, img_path)\n",
    "#     show_result_pyplot(model, img_path, result, score_thr=0.2)\n",
    "    img, _ = show_result(img_path, result, score_thr=0.4, ret_rect=True)\n",
    "#     img = img[:, :, ::-1]\n",
    "    # plt.figure(figsize=(15, 10))\n",
    "    # plt.axis('off')\n",
    "    # plt.imshow(img)\n",
    "    # plt.show()\n",
    "    out_path = os.path.join(output_dir, fn)\n",
    "    cv2.imwrite(out_path, img)\n",
    "    if bi > 10:\n",
    "        break"
   ]
  },
  {
   "cell_type": "code",
   "execution_count": null,
   "id": "08358280",
   "metadata": {},
   "outputs": [],
   "source": [
    "!ls data/yunnan_512_1/val/JPEGImages | wc -l"
   ]
  },
  {
   "cell_type": "markdown",
   "id": "4c15ca37",
   "metadata": {},
   "source": [
    "### RUN POLYRNN"
   ]
  },
  {
   "cell_type": "code",
   "execution_count": null,
   "id": "8081e517",
   "metadata": {},
   "outputs": [],
   "source": [
    "import os\n",
    "os.environ['CUDA_VISIBLE_DEVICES'] = '1'\n",
    "from subprocess import Popen"
   ]
  },
  {
   "cell_type": "code",
   "execution_count": null,
   "id": "7d74db96",
   "metadata": {},
   "outputs": [],
   "source": [
    "import glob\n",
    "test_work_dir = './venus_last_tf/15'\n",
    "cfg_options = ''\n",
    "cfg_options += 'model.roi_head.polygon_head.polyrnn_head.weight_kernel_params.kernel_size=3 '\n",
    "cfg_options += 'model.roi_head.polygon_head.polyrnn_head.weight_kernel_params.type=gaussian'\n",
    "log = os.path.join(test_work_dir, 'result_out.log')\n",
    "# config = './configs/polygon/polyrnn_r50_fpn_1x_building_0329_3.py'\n",
    "config = glob.glob(os.path.join(test_work_dir, '*.py'))[0]\n",
    "checkpoint = os.path.join(test_work_dir, 'latest.pth')\n",
    "if cfg_options:\n",
    "    execmd = f'python tools/test.py {config} {checkpoint} --cfg-options {cfg_options} --out {test_work_dir}/result.pkl --eval bbox segm > {log}'\n",
    "else:\n",
    "    execmd = f'python tools/test.py {config} {checkpoint} --out {test_work_dir}/result.pkl --eval bbox segm > {log}'\n",
    "execmd"
   ]
  },
  {
   "cell_type": "code",
   "execution_count": null,
   "id": "8b641ae1",
   "metadata": {},
   "outputs": [],
   "source": [
    "p = Popen(execmd, shell=True)\n",
    "p.wait()"
   ]
  },
  {
   "cell_type": "code",
   "execution_count": null,
   "id": "62add1a9",
   "metadata": {},
   "outputs": [],
   "source": []
  }
 ],
 "metadata": {
  "kernelspec": {
   "name": "python370jvsc74a57bd02b250b86d03d813817a24e8c07d2c145b7b4f29b68e463352a8b3d5f149cf0fc",
   "display_name": "Python 3.7.0 64-bit ('polyrnn': conda)"
  },
  "language_info": {
   "codemirror_mode": {
    "name": "ipython",
    "version": 3
   },
   "file_extension": ".py",
   "mimetype": "text/x-python",
   "name": "python",
   "nbconvert_exporter": "python",
   "pygments_lexer": "ipython3",
   "version": "3.7.0"
  },
  "metadata": {
   "interpreter": {
    "hash": "2b250b86d03d813817a24e8c07d2c145b7b4f29b68e463352a8b3d5f149cf0fc"
   }
  }
 },
 "nbformat": 4,
 "nbformat_minor": 5
}