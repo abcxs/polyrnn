{
 "cells": [
  {
   "cell_type": "code",
   "execution_count": null,
   "id": "2acb47d3",
   "metadata": {},
   "outputs": [],
   "source": [
    "!pwd"
   ]
  },
  {
   "cell_type": "code",
   "execution_count": null,
   "id": "62a6905f",
   "metadata": {},
   "outputs": [],
   "source": [
    "import os\n",
    "os.environ['CUDA_VISIBLE_DEVICES'] = '5'\n",
    "from subprocess import Popen\n",
    "index = '4'\n",
    "FLOG  = f'inference_log/{index}'\n",
    "os.makedirs(FLOG, exist_ok=True)"
   ]
  },
  {
   "cell_type": "code",
   "execution_count": null,
   "id": "b6d65a22",
   "metadata": {},
   "outputs": [],
   "source": [
    "import glob\n",
    "test_work_dir = 'checkpoints/jinan'\n",
    "cfg_options = ''\n",
    "# cfg_options += 'model.roi_head.polygon_head.polyrnn_head.weight_kernel_params.kernel_size=3 '\n",
    "# cfg_options += 'model.roi_head.polygon_head.polyrnn_head.weight_kernel_params.type=gaussian'\n",
    "config = glob.glob(os.path.join(test_work_dir, '*.py'))[0]\n",
    "checkpoint = glob.glob(os.path.join(test_work_dir, '*.pth'))[0]\n",
    "log = os.path.join(FLOG, 'log.log')\n",
    "if cfg_options:\n",
    "    execmd = f'python tools/test.py {config} {checkpoint} --cfg-options {cfg_options} --eval bbox segm > {log}'\n",
    "else:\n",
    "    execmd = f'python tools/test.py {config} {checkpoint} --eval bbox segm > {log}'\n",
    "execmd"
   ]
  },
  {
   "cell_type": "code",
   "execution_count": null,
   "id": "adf19a88",
   "metadata": {},
   "outputs": [],
   "source": [
    "flog = f'{FLOG}/excmd.log'\n",
    "!echo '{execmd}' >> {flog}\n",
    "p = Popen(execmd, shell=True)\n",
    "p.wait()"
   ]
  },
  {
   "cell_type": "code",
   "execution_count": null,
   "id": "b95fe38a",
   "metadata": {},
   "outputs": [],
   "source": []
  }
 ],
 "metadata": {
  "kernelspec": {
   "name": "python370jvsc74a57bd02b250b86d03d813817a24e8c07d2c145b7b4f29b68e463352a8b3d5f149cf0fc",
   "display_name": "Python 3.7.0 64-bit ('polyrnn': conda)"
  },
  "language_info": {
   "codemirror_mode": {
    "name": "ipython",
    "version": 3
   },
   "file_extension": ".py",
   "mimetype": "text/x-python",
   "name": "python",
   "nbconvert_exporter": "python",
   "pygments_lexer": "ipython3",
   "version": "3.7.0"
  },
  "metadata": {
   "interpreter": {
    "hash": "2b250b86d03d813817a24e8c07d2c145b7b4f29b68e463352a8b3d5f149cf0fc"
   }
  }
 },
 "nbformat": 4,
 "nbformat_minor": 5
}