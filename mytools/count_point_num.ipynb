{
 "cells": [
  {
   "cell_type": "code",
   "execution_count": null,
   "metadata": {},
   "outputs": [],
   "source": [
    "from pycocotools.coco import COCO\n",
    "json_file = '../data/yunnan_512/train/train.json'\n",
    "# json_file = '../data/jinan/pan/train/train.json'\n",
    "coco = COCO(json_file)"
   ]
  },
  {
   "cell_type": "code",
   "execution_count": null,
   "metadata": {},
   "outputs": [],
   "source": [
    "anns = coco.anns\n",
    "num_points = []\n",
    "for ann_id, ann in anns.items():\n",
    "    p = len(ann['segmentation'][0]) // 2\n",
    "    if p > 50:\n",
    "        continue\n",
    "    num_points.append(p)\n",
    "#     if num_points[-1] > 200:\n",
    "#         print(ann)"
   ]
  },
  {
   "cell_type": "code",
   "execution_count": null,
   "metadata": {},
   "outputs": [],
   "source": [
    "print(sum(num_points))\n",
    "print(sum(num_points) / len(num_points))"
   ]
  },
  {
   "cell_type": "code",
   "execution_count": null,
   "metadata": {},
   "outputs": [],
   "source": [
    "img_ids = [35]\n",
    "import os\n",
    "from PIL import Image, ImageDraw\n",
    "img_dir = '../data/jinan/pan/train/JPEGImages'\n",
    "for bi, img_id in enumerate(img_ids):\n",
    "    data_info = coco.loadImgs([img_id])[0]\n",
    "    \n",
    "    img_path = os.path.join(img_dir, data_info['file_name'])\n",
    "    img = Image.open(img_path)\n",
    "    draw = ImageDraw.Draw(img)\n",
    "    \n",
    "    annotations_ids = coco.getAnnIds(imgIds=img_id, iscrowd=False)\n",
    "    coco_annotations = coco.loadAnns(annotations_ids)\n",
    "    for idx, anno in enumerate(coco_annotations):\n",
    "        if anno['bbox'][2] < 1 or anno['bbox'][3] < 1:\n",
    "            continue\n",
    "        x1, y1, w, h = anno['bbox']\n",
    "        draw.rectangle((x1, y1, x1 + w, y1 + h))\n",
    "    display(img)\n",
    "    \n",
    "    if bi > 10:\n",
    "        break"
   ]
  },
  {
   "cell_type": "markdown",
   "metadata": {},
   "source": [
    "### 统计评估结果"
   ]
  },
  {
   "cell_type": "markdown",
   "metadata": {},
   "source": [
    "| 数据集 | gt | rect | poly | mask | polyrnn |\n",
    "| - | - | - | - | - | - |\n",
    "| jinan | 5.3 | 4 | 7.9 | 12.5 | 4.1\n",
    "| yunnan | 6.4 | 4 | 12.1 | 17.8 | 5.3\n"
   ]
  },
  {
   "cell_type": "code",
   "execution_count": null,
   "metadata": {},
   "outputs": [],
   "source": [
    "import pickle\n",
    "input_file = '../inference_result/jinan_polyrnn/result.pkl'\n",
    "with open(input_file, 'rb') as f:\n",
    "    results = pickle.load(f)"
   ]
  },
  {
   "cell_type": "code",
   "execution_count": null,
   "metadata": {},
   "outputs": [],
   "source": [
    "import pycocotools.mask as mask_util\n",
    "from tqdm import tqdm\n",
    "import cv2\n",
    "import numpy as np\n",
    "def findContours(*args, **kwargs):\n",
    "    \"\"\"\n",
    "    Wraps cv2.findContours to maintain compatiblity between versions\n",
    "    3 and 4\n",
    "\n",
    "    Returns:\n",
    "        contours, hierarchy\n",
    "    \"\"\"\n",
    "    if cv2.__version__.startswith('4'):\n",
    "        contours, hierarchy = cv2.findContours(*args, **kwargs)\n",
    "    elif cv2.__version__.startswith('3'):\n",
    "        _, contours, hierarchy = cv2.findContours(*args, **kwargs)\n",
    "    else:\n",
    "        raise AssertionError(\n",
    "            'cv2 must be either version 3 or 4 to call this method')\n",
    "\n",
    "    return contours, hierarchy\n",
    "\n",
    "# is_approx_poly = \n",
    "num_points = []\n",
    "for i in tqdm(range(len(results))):\n",
    "    result = results[i]\n",
    "    if len(result[0][0]) == 0:\n",
    "        continue\n",
    "    if len(result) == 3:\n",
    "        polygon_points = result[2][0]\n",
    "        for poly in polygon_points:\n",
    "            num_points.append(len(poly) // 2)\n",
    "    else:\n",
    "        imgs = mask_util.decode(result[1][0])\n",
    "        h, w, c = imgs.shape\n",
    "        img_segm = []\n",
    "        for j in range(c):\n",
    "            img = imgs[:, :, [j]]\n",
    "            contours, _ = findContours(img, cv2.RETR_TREE, cv2.CHAIN_APPROX_SIMPLE)\n",
    "            if len(contours) == 0:\n",
    "                continue\n",
    "            contours = np.concatenate(contours, axis=0)\n",
    "            contour = cv2.convexHull(contours)\n",
    "            num_points.append(len(contour))"
   ]
  },
  {
   "cell_type": "code",
   "execution_count": null,
   "metadata": {},
   "outputs": [],
   "source": [
    "print(sum(num_points) / len(num_points))"
   ]
  },
  {
   "cell_type": "markdown",
   "metadata": {},
   "source": [
    "### 统计"
   ]
  },
  {
   "cell_type": "code",
   "execution_count": null,
   "metadata": {},
   "outputs": [],
   "source": [
    "from pycocotools.coco import COCO\n",
    "json_file = '../data/yunnan_512/train/train.json'\n",
    "coco = COCO(json_file)"
   ]
  },
  {
   "cell_type": "code",
   "execution_count": null,
   "metadata": {},
   "outputs": [],
   "source": [
    "print(len(coco.imgs))\n",
    "print(len(coco.anns))"
   ]
  },
  {
   "cell_type": "code",
   "execution_count": null,
   "metadata": {},
   "outputs": [],
   "source": []
  }
 ],
 "metadata": {
  "kernelspec": {
   "name": "python370jvsc74a57bd02b250b86d03d813817a24e8c07d2c145b7b4f29b68e463352a8b3d5f149cf0fc",
   "display_name": "Python 3.7.0 64-bit ('polyrnn': conda)"
  },
  "language_info": {
   "codemirror_mode": {
    "name": "ipython",
    "version": 3
   },
   "file_extension": ".py",
   "mimetype": "text/x-python",
   "name": "python",
   "nbconvert_exporter": "python",
   "pygments_lexer": "ipython3",
   "version": "3.7.0"
  },
  "metadata": {
   "interpreter": {
    "hash": "2b250b86d03d813817a24e8c07d2c145b7b4f29b68e463352a8b3d5f149cf0fc"
   }
  }
 },
 "nbformat": 4,
 "nbformat_minor": 4
}