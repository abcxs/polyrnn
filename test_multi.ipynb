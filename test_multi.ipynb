{
 "cells": [
  {
   "cell_type": "code",
   "execution_count": 1,
   "metadata": {},
   "outputs": [
    {
     "name": "stdout",
     "output_type": "stream",
     "text": [
      "/data/cdp_algo_ceph_ssd/users/roczhou/detection/mmd\n"
     ]
    }
   ],
   "source": [
    "!pwd"
   ]
  },
  {
   "cell_type": "code",
   "execution_count": 2,
   "metadata": {},
   "outputs": [],
   "source": [
    "import os\n",
    "os.environ['CUDA_VISIBLE_DEVICES'] = '1'\n",
    "from subprocess import Popen\n",
    "execmds = []\n",
    "FLOGS = []"
   ]
  },
  {
   "cell_type": "code",
   "execution_count": 3,
   "metadata": {},
   "outputs": [],
   "source": [
    "import glob\n",
    "index = '1_1'\n",
    "FLOG  = f'inference_last_tf/{index}'\n",
    "os.makedirs(FLOG, exist_ok=True)\n",
    "test_work_dir = 'venus_last_tf/3'\n",
    "cfg_options = ''\n",
    "cfg_options += 'model.roi_head.polygon_head.polyrnn_head.weight_kernel_params.kernel_size=3 '\n",
    "cfg_options += 'model.roi_head.polygon_head.polyrnn_head.weight_kernel_params.type=gaussian'\n",
    "# config = './configs/polygon/polyrnn_r50_fpn_1x_building_0329_3.py'\n",
    "config = glob.glob(os.path.join(test_work_dir, '*.py'))[0]\n",
    "checkpoint = os.path.join(test_work_dir, 'epoch_19.pth')\n",
    "log = os.path.join(FLOG, 'log.log')\n",
    "if cfg_options:\n",
    "    execmd = f'python tools/test.py {config} {checkpoint} --cfg-options {cfg_options} --eval bbox segm > {log}'\n",
    "else:\n",
    "    execmd = f'python tools/test.py {config} {checkpoint} --eval bbox segm > {log}'\n",
    "execmds.append(execmd)\n",
    "FLOGS.append(FLOG)"
   ]
  },
  {
   "cell_type": "code",
   "execution_count": 4,
   "metadata": {},
   "outputs": [],
   "source": [
    "import glob\n",
    "index = '1_2'\n",
    "FLOG  = f'inference_last_tf/{index}'\n",
    "os.makedirs(FLOG, exist_ok=True)\n",
    "test_work_dir = 'venus_last_tf/3'\n",
    "cfg_options = ''\n",
    "cfg_options += 'model.roi_head.polygon_head.polyrnn_head.weight_kernel_params.kernel_size=5 '\n",
    "cfg_options += 'model.roi_head.polygon_head.polyrnn_head.weight_kernel_params.type=gaussian'\n",
    "# config = './configs/polygon/polyrnn_r50_fpn_1x_building_0329_3.py'\n",
    "config = glob.glob(os.path.join(test_work_dir, '*.py'))[0]\n",
    "checkpoint = os.path.join(test_work_dir, 'epoch_19.pth')\n",
    "log = os.path.join(FLOG, 'log.log')\n",
    "if cfg_options:\n",
    "    execmd = f'python tools/test.py {config} {checkpoint} --cfg-options {cfg_options} --eval bbox segm > {log}'\n",
    "else:\n",
    "    execmd = f'python tools/test.py {config} {checkpoint} --eval bbox segm > {log}'\n",
    "execmds.append(execmd)\n",
    "FLOGS.append(FLOG)"
   ]
  },
  {
   "cell_type": "code",
   "execution_count": 5,
   "metadata": {},
   "outputs": [],
   "source": [
    "import glob\n",
    "index = '1_3'\n",
    "FLOG  = f'inference_last_tf/{index}'\n",
    "os.makedirs(FLOG, exist_ok=True)\n",
    "test_work_dir = 'venus_last_tf/3'\n",
    "cfg_options = ''\n",
    "cfg_options += 'model.roi_head.polygon_head.polyrnn_head.weight_kernel_params.kernel_size=3 '\n",
    "cfg_options += 'model.roi_head.polygon_head.polyrnn_head.weight_kernel_params.type=constant'\n",
    "# config = './configs/polygon/polyrnn_r50_fpn_1x_building_0329_3.py'\n",
    "config = glob.glob(os.path.join(test_work_dir, '*.py'))[0]\n",
    "checkpoint = os.path.join(test_work_dir, 'epoch_19.pth')\n",
    "log = os.path.join(FLOG, 'log.log')\n",
    "if cfg_options:\n",
    "    execmd = f'python tools/test.py {config} {checkpoint} --cfg-options {cfg_options} --eval bbox segm > {log}'\n",
    "else:\n",
    "    execmd = f'python tools/test.py {config} {checkpoint} --eval bbox segm > {log}'\n",
    "execmds.append(execmd)\n",
    "FLOGS.append(FLOG)"
   ]
  },
  {
   "cell_type": "code",
   "execution_count": 6,
   "metadata": {},
   "outputs": [],
   "source": [
    "import glob\n",
    "index = '1_4'\n",
    "FLOG  = f'inference_last_tf/{index}'\n",
    "os.makedirs(FLOG, exist_ok=True)\n",
    "test_work_dir = 'venus_last_tf/3'\n",
    "cfg_options = ''\n",
    "cfg_options += 'model.roi_head.polygon_head.polyrnn_head.weight_kernel_params.kernel_size=5 '\n",
    "cfg_options += 'model.roi_head.polygon_head.polyrnn_head.weight_kernel_params.type=constant'\n",
    "# config = './configs/polygon/polyrnn_r50_fpn_1x_building_0329_3.py'\n",
    "config = glob.glob(os.path.join(test_work_dir, '*.py'))[0]\n",
    "checkpoint = os.path.join(test_work_dir, 'epoch_19.pth')\n",
    "log = os.path.join(FLOG, 'log.log')\n",
    "if cfg_options:\n",
    "    execmd = f'python tools/test.py {config} {checkpoint} --cfg-options {cfg_options} --eval bbox segm > {log}'\n",
    "else:\n",
    "    execmd = f'python tools/test.py {config} {checkpoint} --eval bbox segm > {log}'\n",
    "execmds.append(execmd)\n",
    "FLOGS.append(FLOG)"
   ]
  },
  {
   "cell_type": "code",
   "execution_count": 7,
   "metadata": {},
   "outputs": [],
   "source": [
    "import glob\n",
    "index = '1_5'\n",
    "FLOG  = f'inference_last_tf/{index}'\n",
    "os.makedirs(FLOG, exist_ok=True)\n",
    "test_work_dir = 'venus_last_tf/3'\n",
    "cfg_options = ''\n",
    "cfg_options += 'model.roi_head.polygon_head.polyrnn_head.weight_kernel_params.kernel_size=3 '\n",
    "cfg_options += 'model.roi_head.polygon_head.polyrnn_head.weight_kernel_params.type=avg_gaussian'\n",
    "# config = './configs/polygon/polyrnn_r50_fpn_1x_building_0329_3.py'\n",
    "config = glob.glob(os.path.join(test_work_dir, '*.py'))[0]\n",
    "checkpoint = os.path.join(test_work_dir, 'epoch_19.pth')\n",
    "log = os.path.join(FLOG, 'log.log')\n",
    "if cfg_options:\n",
    "    execmd = f'python tools/test.py {config} {checkpoint} --cfg-options {cfg_options} --eval bbox segm > {log}'\n",
    "else:\n",
    "    execmd = f'python tools/test.py {config} {checkpoint} --eval bbox segm > {log}'\n",
    "execmds.append(execmd)\n",
    "FLOGS.append(FLOG)"
   ]
  },
  {
   "cell_type": "code",
   "execution_count": 9,
   "metadata": {},
   "outputs": [
    {
     "name": "stdout",
     "output_type": "stream",
     "text": [
      "['inference_last_tf/1_1', 'inference_last_tf/1_2', 'inference_last_tf/1_3', 'inference_last_tf/1_4', 'inference_last_tf/1_5']\n"
     ]
    },
    {
     "data": {
      "text/plain": [
       "['python tools/test.py venus_last_tf/3/tf_polyrnn_r50_fpn_1x_building_edge_0410_1.py venus_last_tf/3/epoch_19.pth --cfg-options model.roi_head.polygon_head.polyrnn_head.weight_kernel_params.kernel_size=3 model.roi_head.polygon_head.polyrnn_head.weight_kernel_params.type=gaussian --eval bbox segm > inference_last_tf/1_1/log.log',\n",
       " 'python tools/test.py venus_last_tf/3/tf_polyrnn_r50_fpn_1x_building_edge_0410_1.py venus_last_tf/3/epoch_19.pth --cfg-options model.roi_head.polygon_head.polyrnn_head.weight_kernel_params.kernel_size=5 model.roi_head.polygon_head.polyrnn_head.weight_kernel_params.type=gaussian --eval bbox segm > inference_last_tf/1_2/log.log',\n",
       " 'python tools/test.py venus_last_tf/3/tf_polyrnn_r50_fpn_1x_building_edge_0410_1.py venus_last_tf/3/epoch_19.pth --cfg-options model.roi_head.polygon_head.polyrnn_head.weight_kernel_params.kernel_size=3 model.roi_head.polygon_head.polyrnn_head.weight_kernel_params.type=constant --eval bbox segm > inference_last_tf/1_3/log.log',\n",
       " 'python tools/test.py venus_last_tf/3/tf_polyrnn_r50_fpn_1x_building_edge_0410_1.py venus_last_tf/3/epoch_19.pth --cfg-options model.roi_head.polygon_head.polyrnn_head.weight_kernel_params.kernel_size=5 model.roi_head.polygon_head.polyrnn_head.weight_kernel_params.type=constant --eval bbox segm > inference_last_tf/1_4/log.log',\n",
       " 'python tools/test.py venus_last_tf/3/tf_polyrnn_r50_fpn_1x_building_edge_0410_1.py venus_last_tf/3/epoch_19.pth --cfg-options model.roi_head.polygon_head.polyrnn_head.weight_kernel_params.kernel_size=3 model.roi_head.polygon_head.polyrnn_head.weight_kernel_params.type=avg_gaussian --eval bbox segm > inference_last_tf/1_5/log.log']"
      ]
     },
     "execution_count": 9,
     "metadata": {},
     "output_type": "execute_result"
    }
   ],
   "source": [
    "print(FLOGS)\n",
    "execmds"
   ]
  },
  {
   "cell_type": "code",
   "execution_count": 10,
   "metadata": {},
   "outputs": [
    {
     "name": "stdout",
     "output_type": "stream",
     "text": [
      "python tools/test.py venus_last_tf/3/tf_polyrnn_r50_fpn_1x_building_edge_0410_1.py venus_last_tf/3/epoch_19.pth --cfg-options model.roi_head.polygon_head.polyrnn_head.weight_kernel_params.kernel_size=3 model.roi_head.polygon_head.polyrnn_head.weight_kernel_params.type=gaussian --eval bbox segm > inference_last_tf/1_1/log.log inference_last_tf/1_1\n",
      "python tools/test.py venus_last_tf/3/tf_polyrnn_r50_fpn_1x_building_edge_0410_1.py venus_last_tf/3/epoch_19.pth --cfg-options model.roi_head.polygon_head.polyrnn_head.weight_kernel_params.kernel_size=5 model.roi_head.polygon_head.polyrnn_head.weight_kernel_params.type=gaussian --eval bbox segm > inference_last_tf/1_2/log.log inference_last_tf/1_2\n",
      "python tools/test.py venus_last_tf/3/tf_polyrnn_r50_fpn_1x_building_edge_0410_1.py venus_last_tf/3/epoch_19.pth --cfg-options model.roi_head.polygon_head.polyrnn_head.weight_kernel_params.kernel_size=3 model.roi_head.polygon_head.polyrnn_head.weight_kernel_params.type=constant --eval bbox segm > inference_last_tf/1_3/log.log inference_last_tf/1_3\n",
      "python tools/test.py venus_last_tf/3/tf_polyrnn_r50_fpn_1x_building_edge_0410_1.py venus_last_tf/3/epoch_19.pth --cfg-options model.roi_head.polygon_head.polyrnn_head.weight_kernel_params.kernel_size=5 model.roi_head.polygon_head.polyrnn_head.weight_kernel_params.type=constant --eval bbox segm > inference_last_tf/1_4/log.log inference_last_tf/1_4\n",
      "python tools/test.py venus_last_tf/3/tf_polyrnn_r50_fpn_1x_building_edge_0410_1.py venus_last_tf/3/epoch_19.pth --cfg-options model.roi_head.polygon_head.polyrnn_head.weight_kernel_params.kernel_size=3 model.roi_head.polygon_head.polyrnn_head.weight_kernel_params.type=avg_gaussian --eval bbox segm > inference_last_tf/1_5/log.log inference_last_tf/1_5\n"
     ]
    }
   ],
   "source": [
    "for execmd, FLOG in zip(execmds, FLOGS):\n",
    "    print(execmd, FLOG)\n",
    "    flog = f'{FLOG}/excmd.log'\n",
    "    !echo '{execmd}' >> {flog}\n",
    "    p = Popen(execmd, shell=True)\n",
    "    p.wait()"
   ]
  },
  {
   "cell_type": "code",
   "execution_count": null,
   "metadata": {},
   "outputs": [],
   "source": []
  }
 ],
 "metadata": {
  "kernelspec": {
   "display_name": "Environment (conda_roczhou_mmd)",
   "language": "python",
   "name": "conda_roczhou_mmd"
  },
  "language_info": {
   "codemirror_mode": {
    "name": "ipython",
    "version": 3
   },
   "file_extension": ".py",
   "mimetype": "text/x-python",
   "name": "python",
   "nbconvert_exporter": "python",
   "pygments_lexer": "ipython3",
   "version": "3.6.12"
  }
 },
 "nbformat": 4,
 "nbformat_minor": 5
}
